{
 "cells": [
  {
   "cell_type": "code",
   "execution_count": null,
   "metadata": {},
   "outputs": [],
   "source": [
    "import pandas as pd\n",
    "import numpy as np\n",
    "import pywhatkit as wpp\n",
    "from datetime import datetime, timedelta\n",
    "\n",
    "#SetOptions para ver los dataframes\n",
    "# pd.set_option('display.max_rows', None)\n",
    "pd.set_option('display.max_columns', None)\n",
    "pd.set_option('display.width', None)\n",
    "pd.set_option('display.max_colwidth',False)"
   ]
  },
  {
   "cell_type": "code",
   "execution_count": null,
   "metadata": {},
   "outputs": [],
   "source": [
    "def dias_alertas():\n",
    "    hoy = datetime.now()\n",
    "    dias_semana = {'lunes': 0, 'martes': 1, 'miércoles': 2, 'jueves': 3, 'viernes': 4, 'sábado': 5, 'domingo': 6}\n",
    "\n",
    "    # Encuentra el último martes y jueves\n",
    "    last_tuesday = hoy - timedelta(days=(hoy.weekday() - dias_semana['martes']) % 7)\n",
    "    last_thursday = hoy - timedelta(days=(hoy.weekday() - dias_semana['jueves']) % 7)\n",
    "\n",
    "    # Devuelve la fecha más reciente entre el último martes y jueves\n",
    "    return max(last_tuesday, last_thursday).strftime('%d')\n",
    "\n",
    "# Llama a la función y muestra el resultado\n",
    "# print(dias_alertas())"
   ]
  },
  {
   "cell_type": "code",
   "execution_count": null,
   "metadata": {},
   "outputs": [],
   "source": [
    "path = 'Data/'\n",
    "\n",
    "#df_matries = pd.read_excel(path + 'Román - M{:d} Seguimiento.xlsx', sheet_name='Estatus').format(mes)\n",
    "database = pd.read_excel(path + 'BASE CNCI.xlsx')\n",
    "inactivos = pd.read_excel(path + 'Alertas tempranas {:2} de Abril 2024.xlsx'.format(dias_alertas()), sheet_name='Inactivo')"
   ]
  },
  {
   "cell_type": "markdown",
   "metadata": {},
   "source": [
    "#### Limpieza del Database"
   ]
  },
  {
   "cell_type": "markdown",
   "metadata": {},
   "source": [
    "Dropear columnas innecesarias"
   ]
  },
  {
   "cell_type": "code",
   "execution_count": null,
   "metadata": {},
   "outputs": [],
   "source": [
    "#Renombrar el nombre de la columna NOMBRE\n",
    "database.rename(columns = {'NOMBRE                                                                                                                                      ' : \"Nombre\", 'MATRICULA' : \"Matricula\"}, inplace= True)\n",
    "\n",
    "database = database[['Nombre', 'Matricula', 'CE CANALIZADO', 'CARRERA', 'M4', 'Correo', 'Teléfono', 'Teléfono2', 'Teléfono3', 'CURP', 'Agente ', 'Asesor Académico', 'Asesor Financiero ', 'Asesor Escolar']]\n",
    "\n",
    "# Filtro Cadereyta \n",
    "database = database[database['CE CANALIZADO'] == 'CE CADEREYTA']"
   ]
  },
  {
   "cell_type": "markdown",
   "metadata": {},
   "source": [
    "#### Limpieza y Filtro de Inactivos"
   ]
  },
  {
   "cell_type": "code",
   "execution_count": null,
   "metadata": {},
   "outputs": [],
   "source": [
    "inactivos = inactivos.drop(columns=['Registro 1', 'Registro 2', 'Registro 3', 'Registro 4', 'Registro 5', 'Subproyecto'])\n",
    "inactivos = inactivos[inactivos['Centro Enlace'].isin(['CADEREYTA', 'CE CADEREYTA', 'CC CADEREYTA'])]"
   ]
  },
  {
   "cell_type": "code",
   "execution_count": null,
   "metadata": {},
   "outputs": [],
   "source": [
    "# Juntas las materias\n",
    "inactivos_agrup = inactivos.groupby(\"Matricula\")[\"Grupo\"].agg(lambda x: \", \".join(x)).reset_index().rename(columns={'Grupo':'Materias'})\n",
    "inactivos = pd.merge(inactivos, inactivos_agrup, on = \"Matricula\", how = \"left\")\n",
    "inactivos.shape # Materias agrupadas en la última columna"
   ]
  },
  {
   "cell_type": "code",
   "execution_count": null,
   "metadata": {},
   "outputs": [],
   "source": [
    "# Reacomodo de las materias\n",
    "columna_extra = inactivos[\"Materias\"]\n",
    "inactivos.drop(columns = [\"Materias\", 'Modelo'], inplace=True)\n",
    "inactivos[\"Grupo\"] = columna_extra\n",
    "inactivos = inactivos.drop_duplicates(subset='Nombre')\n",
    "inactivos.shape # Sin duplicados"
   ]
  },
  {
   "cell_type": "code",
   "execution_count": null,
   "metadata": {},
   "outputs": [],
   "source": [
    "imagen = 'img/Cerro.jpeg'\n",
    "path2 = 'infodata/'\n",
    "\n",
    "try:\n",
    "    matric_error = pd.read_csv(path2 + 'matriculas_error.csv')\n",
    "    matric_yacontactadas = pd.read_csv(path2 + 'matriculas_yacontactadas.csv') \n",
    "    \n",
    "    matric_error = matric_error.dropna().values.flatten().tolist()\n",
    "    matric_yacontactadas = matric_yacontactadas.dropna().values.flatten().tolist()\n",
    "except FileNotFoundError:\n",
    "    matric_error = pd.DataFrame()\n",
    "    matric_yacontactadas = pd.DataFrame()"
   ]
  },
  {
   "cell_type": "code",
   "execution_count": null,
   "metadata": {},
   "outputs": [],
   "source": [
    "# Merge nuestros df, con el fin de no llamar a dos df en el for.\n",
    "inactivos = pd.merge(inactivos, database[['Matricula','Teléfono', 'Teléfono2', 'M4']], on = 'Matricula')"
   ]
  },
  {
   "cell_type": "markdown",
   "metadata": {},
   "source": [
    "#### Ciclo de mensajes"
   ]
  },
  {
   "cell_type": "code",
   "execution_count": null,
   "metadata": {},
   "outputs": [],
   "source": [
    "for index, row in inactivos.iterrows():\n",
    "    alumno = row['Nombre']\n",
    "    matricula = row['Matricula']\n",
    "    materias = row['Grupo']\n",
    "    status = row['Estatus']\n",
    "    telefono = row['Teléfono']\n",
    "    if not np.isnan(telefono):\n",
    "        telefono = '+52 ' + str(telefono)\n",
    "    if matricula in matric_error:\n",
    "        if not np.isnan(row['Teléfono2']):\n",
    "            telefono2 = '+52 ' + str(row['Teléfono2'])\n",
    "            telefono = telefono2\n",
    "            print('Matricula con error: {}, Alumno: {}'.format(matricula, alumno))\n",
    "    \n",
    "    if status == ('Inactivo'):\n",
    "        mencion_stat = 'veo que aún no has ingresado a tus materias: *' + materias +'*'\n",
    "    elif status == ('Ausente'):\n",
    "        mencion_stat = 'veo que ya has ingresado a tus materias: *'+ materias +'* \\n ¿Has logrado avanzar con tus tareas?' \n",
    "        \n",
    "    if matricula in matric_yacontactadas:\n",
    "        print('Matricula antes contactada: {}, Alumno: {} '.format(matricula, alumno))    \n",
    "    else:\n",
    "        mensaje = 'Hola, que tal ' + alumno + ' ' + matricula + ', soy _Román Rodríguez_ Tutor Presencial del CNCI, me comunico contigo ya que ' + mencion_stat + ' ¿Hay algo en lo que pueda apoyarte?'\n",
    "        print('Enviado a: ', matricula, alumno)\n",
    "        #wpp.sendwhats_image(telefono, imagen, mensaje, 25, True)\n",
    "        # print(telefono, matricula, alumno)\n"
   ]
  }
 ],
 "metadata": {
  "kernelspec": {
   "display_name": "Python 3",
   "language": "python",
   "name": "python3"
  },
  "language_info": {
   "codemirror_mode": {
    "name": "ipython",
    "version": 3
   },
   "file_extension": ".py",
   "mimetype": "text/x-python",
   "name": "python",
   "nbconvert_exporter": "python",
   "pygments_lexer": "ipython3",
   "version": "3.12.3"
  }
 },
 "nbformat": 4,
 "nbformat_minor": 2
}
