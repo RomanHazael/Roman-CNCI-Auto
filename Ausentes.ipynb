{
 "cells": [
  {
   "cell_type": "code",
   "execution_count": 1,
   "metadata": {},
   "outputs": [],
   "source": [
    "import pandas as pd\n",
    "import numpy as np\n",
    "import pywhatkit as wpp\n",
    "from datetime import datetime, timedelta\n",
    "\n",
    "#SetOptions para ver los dataframes\n",
    "# pd.set_option('display.max_rows', None)\n",
    "# pd.set_option('display.max_columns', None)\n",
    "# pd.set_option('display.width', None)\n",
    "# pd.set_option('display.max_colwidth',False)"
   ]
  },
  {
   "cell_type": "code",
   "execution_count": 2,
   "metadata": {},
   "outputs": [],
   "source": [
    "def dias_alertas():\n",
    "    hoy = datetime.now()\n",
    "    dias_semana = {'lunes': 0, 'martes': 1, 'miércoles': 2, 'jueves': 3, 'viernes': 4, 'sábado': 5, 'domingo': 6}\n",
    "\n",
    "    # Encuentra el último martes y jueves\n",
    "    last_tuesday = hoy - timedelta(days=(hoy.weekday() - dias_semana['martes']) % 7)\n",
    "    last_thursday = hoy - timedelta(days=(hoy.weekday() - dias_semana['jueves']) % 7)\n",
    "\n",
    "    # Devuelve la fecha más reciente entre el último martes y jueves\n",
    "    return max(last_tuesday, last_thursday).strftime('%d')\n",
    "\n",
    "# Llama a la función y muestra el resultado\n",
    "# print(dias_alertas())\n"
   ]
  },
  {
   "cell_type": "code",
   "execution_count": 3,
   "metadata": {},
   "outputs": [],
   "source": [
    "path = 'Data/'\n",
    "\n",
    "#df_matries = pd.read_excel(path + 'Román - M{:d} Seguimiento.xlsx', sheet_name='Estatus').format(mes)\n",
    "database = pd.read_excel(path + 'BASE CNCI.xlsx')\n",
    "ausentes = pd.read_excel(path + 'Alertas tempranas {:2} de Abril 2024.xlsx'.format(dias_alertas()), sheet_name='Ausente-posible reprobado')"
   ]
  },
  {
   "cell_type": "markdown",
   "metadata": {},
   "source": [
    "#### Limpieza del Database"
   ]
  },
  {
   "cell_type": "markdown",
   "metadata": {},
   "source": [
    "Dropear columnas innecesarias"
   ]
  },
  {
   "cell_type": "code",
   "execution_count": 4,
   "metadata": {},
   "outputs": [],
   "source": [
    "#Renombrar el nombre de la columna NOMBRE\n",
    "database.rename(columns = {'NOMBRE                                                                                                                                      ' : \"Nombre\", 'MATRICULA' : \"Matricula\"}, inplace= True)\n",
    "\n",
    "database = database[['Nombre', 'Matricula', 'CE CANALIZADO', 'CARRERA', 'M4', 'Correo', 'Teléfono', 'Teléfono2', 'Teléfono3', 'CURP', 'Agente ', 'Asesor Académico', 'Asesor Financiero ', 'Asesor Escolar']]\n",
    "\n",
    "# Filtro Cadereyta \n",
    "database = database[database['CE CANALIZADO'] == 'CE CADEREYTA']"
   ]
  },
  {
   "cell_type": "markdown",
   "metadata": {},
   "source": [
    "#### Limpieza y Filtro de Ausentes"
   ]
  },
  {
   "cell_type": "code",
   "execution_count": 5,
   "metadata": {},
   "outputs": [],
   "source": [
    "# Adios a los registros. Filtro solo Cadereyta\n",
    "ausentes = ausentes.drop(columns=['Registro 1', 'Registro 2', 'Registro 3', 'Registro 4', 'Registro 5', 'Subproyecto'])\n",
    "ausentes = ausentes[ausentes['Centro Enlace'].isin(['CADEREYTA', 'CE CADEREYTA', 'CC CADEREYTA'])]"
   ]
  },
  {
   "cell_type": "code",
   "execution_count": 6,
   "metadata": {},
   "outputs": [
    {
     "data": {
      "text/plain": [
       "(81, 11)"
      ]
     },
     "execution_count": 6,
     "metadata": {},
     "output_type": "execute_result"
    }
   ],
   "source": [
    "# Juntar las materias\n",
    "inactivos_agrup = ausentes.groupby(\"Matricula\")[\"Grupo\"].agg(lambda x: \", \".join(x)).reset_index().rename(columns={'Grupo':'Materias'})\n",
    "ausentes = pd.merge(ausentes, inactivos_agrup, on = \"Matricula\", how = \"left\")\n",
    "ausentes.shape #Materias Agrupadas en la última colunmna"
   ]
  },
  {
   "cell_type": "code",
   "execution_count": 7,
   "metadata": {},
   "outputs": [
    {
     "data": {
      "text/plain": [
       "(49, 9)"
      ]
     },
     "execution_count": 7,
     "metadata": {},
     "output_type": "execute_result"
    }
   ],
   "source": [
    "# Reacomodo de las materias\n",
    "columna_extra = ausentes[\"Materias\"]\n",
    "ausentes.drop(columns = [\"Materias\", 'Modelo'], inplace=True)\n",
    "ausentes[\"Grupo\"] = columna_extra\n",
    "ausentes = ausentes.drop_duplicates(subset='Nombre')\n",
    "ausentes.shape #sin duplicados "
   ]
  },
  {
   "cell_type": "code",
   "execution_count": 8,
   "metadata": {},
   "outputs": [],
   "source": [
    "imagen = 'img/Cerro.jpeg'\n",
    "mencion_stat = ''\n",
    "path2 = 'infodata/'\n",
    "\n",
    "#Inicializar la infodata\n",
    "try:\n",
    "    matric_error = pd.read_csv(path2 + 'matriculas_error.csv')\n",
    "    matric_yacontactadas = pd.read_csv(path2+ 'matriculas_yacontactadas.csv') \n",
    "    \n",
    "    matric_error = matric_error.dropna().values.flatten().tolist()\n",
    "    matric_yacontactadas = matric_yacontactadas.dropna().values.flatten().tolist() \n",
    "except FileNotFoundError:\n",
    "    matric_error = pd.DataFrame()\n",
    "    matric_yacontactadas = pd.DataFrame()"
   ]
  },
  {
   "cell_type": "code",
   "execution_count": 9,
   "metadata": {},
   "outputs": [],
   "source": [
    "# Merge nuestros df, con el fin de no llamar a dos df en el for.\n",
    "ausentes = pd.merge(ausentes, database[['Matricula','Teléfono', 'Teléfono2', 'M4']], on = 'Matricula')"
   ]
  },
  {
   "cell_type": "markdown",
   "metadata": {},
   "source": [
    "#### Ciclo de mensajes"
   ]
  },
  {
   "cell_type": "code",
   "execution_count": 10,
   "metadata": {},
   "outputs": [
    {
     "name": "stdout",
     "output_type": "stream",
     "text": [
      "Matricula antes contactada: AL056425, Alumno: LILIANA ABIGAIL PONCE GAUNA \n",
      "Enviado a:  AL082706 ANGEL ALBERTO HERNANDEZ HERNANDEZ\n",
      "\n",
      "\n",
      "Enviado a:  AL087176 GRECIA SCARLETT REYES SANCHEZ\n",
      "\n",
      "\n",
      "Matricula antes contactada: AL089902, Alumno: ALHINA VIRIDIANA RODRIGUEZ SANCHEZ \n",
      "Enviado a:  AL090088 JUAN JOSE CEJA AMADOR\n",
      "\n",
      "\n",
      "Matricula con error: AL103269, Alumno: BRYAN VAZQUEZ OROZCO\n",
      "Matricula antes contactada: AL103269, Alumno: BRYAN VAZQUEZ OROZCO \n",
      "Enviado a:  BNL055698 GUILLERMO JUAREZ GARZA\n",
      "\n",
      "\n",
      "Matricula antes contactada: BNL070921, Alumno: MARIA YESENIA NUÑEZ TREVIÑO \n",
      "Enviado a:  BNL070959 ANGEL YOEL MUNGUIA HERNANDEZ\n",
      "\n",
      "\n",
      "Enviado a:  BNL073235 CARLOS ARTURO TORRES BRANDT\n",
      "\n",
      "\n",
      "Enviado a:  BNL076176 SALVADOR GARZA BAEZ\n",
      "\n",
      "\n",
      "Enviado a:  BNL077061 EDUARDO GRANADOS PAZOS\n",
      "\n",
      "\n",
      "Enviado a:  BNL077086 RICARDO SANCHEZ MARTINEZ\n",
      "\n",
      "\n",
      "Enviado a:  BNL078554 CAROLINA LISBETH IBARRA GONZALEZ\n",
      "\n",
      "\n",
      "Matricula antes contactada: BNL078651, Alumno: KIMBERLY CHANTAL IBARRA GONZALEZ \n",
      "Enviado a:  BNL079305 JUAN CARLOS RAMIREZ CALVILLO\n",
      "\n",
      "\n",
      "Enviado a:  BNL080024 ESTEFANIA GARZA PALOMARES\n",
      "\n",
      "\n",
      "Enviado a:  BNL080118 NIDIA YUDITH DE LEON TAPIA\n",
      "\n",
      "\n",
      "Matricula antes contactada: BNL086218, Alumno: MARIA GUADALUPE GOMEZ ORTIZ \n",
      "Matricula antes contactada: BNL090068, Alumno: MIGUEL ANGEL MONTOYA RODRIGUEZ \n",
      "Matricula antes contactada: BNL093152, Alumno: GRISELDA GARCIA GUTIERREZ \n",
      "Enviado a:  BNL093560 MARIA DEL CARMEN HUERTA TOLENTINO\n",
      "\n",
      "\n",
      "Matricula antes contactada: BNL096292, Alumno: JOSUE PATRICIO DE LA ROSA SANCHEZ \n",
      "Enviado a:  BNL097916 TAMARA ALELY MORENO ELIZONDO\n",
      "\n",
      "\n",
      "Enviado a:  BNL098173 BRENDA BERENICE RIVERA GONZALEZ\n",
      "\n",
      "\n",
      "Matricula antes contactada: BNL100662, Alumno: BRENDA YURIANA AVILA AYALA \n",
      "Enviado a:  BNL100663 BRENDA SARAHI GARCIA LOZANO\n",
      "\n",
      "\n",
      "Matricula con error: BNL100961, Alumno: AMERICO GARZA OVALLE\n",
      "Matricula antes contactada: BNL100961, Alumno: AMERICO GARZA OVALLE \n",
      "Matricula antes contactada: BNL100968, Alumno: CIELO SARAHI RAMOS TAMEZ \n",
      "Matricula antes contactada: BNL101999, Alumno: HUGO ABIMAEL ANTONIO AGUILAR \n",
      "Enviado a:  BNL102032 BELINDA ELIZABETH CHAPA GARZA\n",
      "\n",
      "\n",
      "Enviado a:  BNL102045 JESUS DANIEL CASTELAN ORTIALES\n",
      "\n",
      "\n",
      "Enviado a:  BNL102377 JANIA YAMILE ESCOBEDO SAUCEDA\n",
      "\n",
      "\n",
      "Enviado a:  BNL102662 CYNTHIA ARACELY BARAJAS FLORES\n",
      "\n",
      "\n",
      "Matricula antes contactada: BNL102885, Alumno: JHONATAN ZETINA CHIGO \n",
      "Enviado a:  BNL102921 EFRAIN ORTEGA MONTES\n",
      "\n",
      "\n",
      "Enviado a:  BNL103221 ANGEL DAVID ARREDONDO MARTINEZ\n",
      "\n",
      "\n",
      "Matricula antes contactada: BNL103286, Alumno: ROBERTO CARLOS MORALES REYES \n",
      "Matricula antes contactada: BNL103335, Alumno: ADOLIO SANCHEZ CRUZ \n",
      "Matricula antes contactada: BNL103409, Alumno: CESAR ALBERTO GONZALEZ ARROYO \n",
      "Matricula antes contactada: BNL104312, Alumno: JORGE ALONZO ALANIS \n",
      "Matricula antes contactada: BNL104541, Alumno: RODRIGO YAIR RODRIGUEZ RIVERA \n",
      "Enviado a:  CTM083326 ANA ROSA SANCHEZ VILLANUEVA\n",
      "\n",
      "\n",
      "Enviado a:  UVNL008464 JOEL EDUARDO MARTINEZ TIJERINA\n",
      "\n",
      "\n"
     ]
    }
   ],
   "source": [
    "for index, row in ausentes.iterrows():\n",
    "    alumno = row['Nombre']\n",
    "    matricula = row['Matricula']\n",
    "    materias = row['Grupo']\n",
    "    telefono = row['Teléfono']\n",
    "    status = row['Estatus']\n",
    "    \n",
    "    if not np.isnan(telefono):\n",
    "        telefono = '+52 ' + str(telefono)\n",
    "    if matricula in matric_error:\n",
    "        if not np.isnan(row['Teléfono2']):\n",
    "            telefono2 = '+52 ' + str(row['Teléfono2'])\n",
    "            telefono = telefono2\n",
    "            print('Matricula con error: {}, Alumno: {}'.format(matricula, alumno))\n",
    "            \n",
    "    if status == ('Inactivo'):\n",
    "        mencion_stat = 'veo que aún no has ingresado a tus materias: *' + materias +'*'\n",
    "    elif status == ('Ausente'):\n",
    "        mencion_stat = 'veo que ya has ingresado a tus materias: *'+ materias +'* \\n ¿Has logrado avanzar con tus tareas?'\n",
    "    if status == ('Posible Reprobado'):\n",
    "        mencion_stat == '¿Cómo vas con tus tareas?'\n",
    "        \n",
    "    if matricula in matric_yacontactadas:\n",
    "        print('Matricula antes contactada: {}, Alumno: {} '.format(matricula, alumno))    \n",
    "    else:\n",
    "        mensaje = 'Hola, que tal ' + alumno + ' ' + matricula + ', soy _Román Rodríguez_ Tutor Presencial del CNCI, me comunico contigo ya que ' + mencion_stat + ' ¿Hay algo en lo que pueda apoyarte?'\n",
    "        print('Enviado a: ', matricula, alumno)\n",
    "        print('\\n')\n",
    "        #wpp.sendwhats_image(telefono, imagen, mensaje, 25, True)\n",
    "        #print(telefono, matricula, alumno)"
   ]
  }
 ],
 "metadata": {
  "kernelspec": {
   "display_name": "Python 3",
   "language": "python",
   "name": "python3"
  },
  "language_info": {
   "codemirror_mode": {
    "name": "ipython",
    "version": 3
   },
   "file_extension": ".py",
   "mimetype": "text/x-python",
   "name": "python",
   "nbconvert_exporter": "python",
   "pygments_lexer": "ipython3",
   "version": "3.12.3"
  }
 },
 "nbformat": 4,
 "nbformat_minor": 2
}
