{
 "cells": [
  {
   "cell_type": "code",
   "execution_count": 1,
   "metadata": {},
   "outputs": [],
   "source": [
    "import pandas as pd\n",
    "import numpy as np\n",
    "import pywhatkit as wpp\n",
    "from datetime import datetime \n",
    "\n",
    "#SetOptions para ver los dataframes\n",
    "#pd.set_option('display.max_rows', None)\n",
    "# pd.set_option('display.max_columns', None)\n",
    "# pd.set_option('display.width', None)\n",
    "# pd.set_option('display.max_colwidth',False)"
   ]
  },
  {
   "cell_type": "markdown",
   "metadata": {},
   "source": [
    "Lectura del Excel"
   ]
  },
  {
   "cell_type": "code",
   "execution_count": 2,
   "metadata": {},
   "outputs": [],
   "source": [
    "path = 'Data/'\n",
    "mes = datetime.now().month\n",
    "\n",
    "extras = pd.read_excel(path + \"Román - M{} Seguimiento.xlsx\".format(mes), sheet_name = \"Extras\")\n",
    "database = pd.read_excel(path + \"BASE CNCI.xlsx\", sheet_name = 'Activos')\n"
   ]
  },
  {
   "cell_type": "code",
   "execution_count": 3,
   "metadata": {},
   "outputs": [
    {
     "data": {
      "text/plain": [
       "Index(['Comentario de CE', 'Compromiso ', 'Matricula', 'Nombre',\n",
       "       'Calificacion', 'Clave', 'Clave Interna', 'Materia', 'Modelo Educativo',\n",
       "       'Clave Carrera', 'Ciclo', 'Tipo Calificacion', 'Correo', 'Usuario Bb',\n",
       "       'Estatus Alumno', 'Subproyecto', 'Centro Enlace'],\n",
       "      dtype='object')"
      ]
     },
     "execution_count": 3,
     "metadata": {},
     "output_type": "execute_result"
    }
   ],
   "source": [
    "extras.columns"
   ]
  },
  {
   "cell_type": "markdown",
   "metadata": {},
   "source": [
    "Limpieza de Columnas"
   ]
  },
  {
   "cell_type": "code",
   "execution_count": 4,
   "metadata": {},
   "outputs": [
    {
     "data": {
      "text/plain": [
       "(28212, 7)"
      ]
     },
     "execution_count": 4,
     "metadata": {},
     "output_type": "execute_result"
    }
   ],
   "source": [
    "extras = extras[[\"Matricula\",\"Nombre\",\"Calificacion\", \"Materia\",\"Clave Carrera\", \"Tipo Calificacion\", \"Centro Enlace\"]]\n",
    "extras.shape"
   ]
  },
  {
   "cell_type": "markdown",
   "metadata": {},
   "source": [
    "Filtran solo de Cadereyta y CC Cadereyta"
   ]
  },
  {
   "cell_type": "code",
   "execution_count": 5,
   "metadata": {},
   "outputs": [],
   "source": [
    "extras = extras[extras[\"Centro Enlace\"].isin([\"CADEREYTA\", \"CC CADEREYTA\"])]"
   ]
  },
  {
   "cell_type": "markdown",
   "metadata": {},
   "source": [
    "Se agrupan en una nueva columna las materias del alumno"
   ]
  },
  {
   "cell_type": "markdown",
   "metadata": {},
   "source": [
    "Se Elimina la fila de Materias al final ya que pasa al frente.\n",
    "Filtro de duplicados. Renombra la columna Materia por Materia."
   ]
  },
  {
   "cell_type": "code",
   "execution_count": 6,
   "metadata": {},
   "outputs": [],
   "source": [
    "df_agrupado = extras.groupby(\"Nombre\")[\"Materia\"].agg(lambda x: \", \".join(x)).reset_index().rename(columns = {\"Materia\": \"Materias\"})\n",
    "extras = pd.merge(extras, df_agrupado, on = \"Nombre\", how = \"left\")     \n",
    "\n",
    "#Cambio de columna y eliminar la extra\n",
    "columna_extra = extras[\"Materias\"]\n",
    "extras.drop(columns = [\"Materias\"], inplace=True)\n",
    "extras[\"Materia\"] = columna_extra\n",
    "\n",
    "#Filtra dúplicados\n",
    "extras = extras.drop_duplicates( subset = \"Nombre\")\n",
    "#Renombra\n",
    "extras.rename(columns = {\"Materia\" : \"Materias\"}, inplace= True)"
   ]
  },
  {
   "cell_type": "markdown",
   "metadata": {},
   "source": [
    "Se eliminan todas las columnas después de la columna CELULAR. \n",
    "Se elimina la columna TUTOR ya que está vacía.\n",
    "Cambia el formato de las columnas TELÉFONO y CELULAR"
   ]
  },
  {
   "cell_type": "code",
   "execution_count": 7,
   "metadata": {},
   "outputs": [],
   "source": [
    "#Se elimina USUARIO BB,PASSWORD PORTAL ALUMNO, PROYECTO, MODELO EDUCATIVO, SERVICIO, Modalidad, Monto, Correo 2\n",
    "database.drop(columns = [\"USUARIO BB\",\"PASSWORD PORTAL \\nALUMNO\", 'PROYECTO','MODELO EDUCATIVO', 'Fecha', 'SERVICIO', 'Fecha de inicio','Modalidad', 'Monto', 'Correo 2'], inplace=True)\n",
    "\n",
    "#Renombrar el nombre de la columna NOMBRE\n",
    "database.rename(columns = {'NOMBRE                                                                                                                                      ' : \"NOMBRE\"}, inplace= True)\n",
    "database.rename(columns = {'MATRICULA' : \"Matricula\"}, inplace= True)\n",
    "#Cambia el formato de las columnas TELÉFONO y CELULAR\n",
    "#df02_final[\"TELÉFONO\"] = df02_final[\"TELÉFONO\"].astype(str).apply(lambda x: \"{:.0f}\".format(float(x)))\n",
    "#df02_final[\"CELULAR\"] = df02_final[\"CELULAR\"].astype(str).apply(lambda x: \"{:.0f}\".format(float(x)))\n",
    "database\n",
    "\n",
    "# Filtro Cadereyta\n",
    "database = database[database['CE CANALIZADO'] == 'CE CADEREYTA']"
   ]
  },
  {
   "cell_type": "markdown",
   "metadata": {},
   "source": [
    "Lista de los NOMBRES y MATRICULAS de los Reprobados"
   ]
  },
  {
   "cell_type": "code",
   "execution_count": 8,
   "metadata": {},
   "outputs": [
    {
     "data": {
      "text/plain": [
       "array(['UVNL019745', 'UVNL022209', 'UVNL022852', 'UVNL029717', 'AL041577',\n",
       "       'AL056425', 'AL067659', 'AL073152', 'AL082106', 'AL084790',\n",
       "       'AL085284', 'AL088323', 'AL089408', 'AL089432', 'AL093169',\n",
       "       'AL094015', 'BNL044964', 'BNL049990', 'BNL050006', 'BNL052841',\n",
       "       'BNL053601', 'BNL055373', 'BNL055698', 'BNL062194', 'BNL064346',\n",
       "       'BNL065238', 'BNL067709', 'BNL068604', 'BNL068661', 'BNL069453',\n",
       "       'BNL070153', 'BNL071412', 'BNL072228', 'BNL072590', 'BNL073225',\n",
       "       'BNL073643', 'BNL073667', 'BNL075497', 'BNL076176', 'BNL077061',\n",
       "       'BNL078039', 'BNL079305', 'BNL080024', 'BNL081348', 'BNL081349',\n",
       "       'BNL081995', 'BNL083647', 'BNL085115', 'BNL086218', 'BNL087363',\n",
       "       'BNL087421', 'BNL087428', 'BNL087758', 'BNL088083', 'BNL089250',\n",
       "       'BNL090068', 'BNL091793', 'BNL091796', 'BNL092420', 'BNL092815',\n",
       "       'BNL093152', 'BNL093782', 'BNL093966', 'BNL094177', 'BNL094370',\n",
       "       'BNL095474', 'BNL095997', 'BNL096292', 'BNL096876', 'BNL098173',\n",
       "       'BNL099720', 'BNL100034', 'BNL100306', 'BNL100961', 'BNL101702',\n",
       "       'BNL101984', 'BNL103276', 'BNL103286', 'BNL103330', 'BNL103337',\n",
       "       'BNL103625', 'UVNL007178', 'UVNL008814', 'UVNL014936',\n",
       "       'UVNL015166', 'UVNL017034', 'UVNL027364', 'UVNL030274',\n",
       "       'UVNL031436', 'UVNL033108'], dtype=object)"
      ]
     },
     "execution_count": 8,
     "metadata": {},
     "output_type": "execute_result"
    }
   ],
   "source": [
    "matricula_reprobados = extras['Matricula'].unique()\n",
    "matricula_reprobados"
   ]
  },
  {
   "cell_type": "markdown",
   "metadata": {},
   "source": [
    "Reprobados que están en el Módulo 4"
   ]
  },
  {
   "cell_type": "code",
   "execution_count": 9,
   "metadata": {},
   "outputs": [
    {
     "data": {
      "text/plain": [
       "Index(['Matricula', 'Nombre', 'Calificacion', 'Materias', 'Clave Carrera',\n",
       "       'Tipo Calificacion', 'Centro Enlace'],\n",
       "      dtype='object')"
      ]
     },
     "execution_count": 9,
     "metadata": {},
     "output_type": "execute_result"
    }
   ],
   "source": [
    "extras.columns"
   ]
  },
  {
   "cell_type": "markdown",
   "metadata": {},
   "source": [
    "Tabla comprendida en la cual solo está la información de los reprobados que están en Módulo 4"
   ]
  },
  {
   "cell_type": "code",
   "execution_count": 10,
   "metadata": {},
   "outputs": [
    {
     "data": {
      "text/plain": [
       "Index(['Matricula', 'Nombre', 'Calificacion', 'Materias', 'Clave Carrera',\n",
       "       'Tipo Calificacion', 'Centro Enlace', 'NOMBRE', 'CE CANALIZADO',\n",
       "       'CARRERA', 'M4', 'Correo', 'Teléfono', 'Teléfono2', 'Teléfono3', 'CURP',\n",
       "       'Agente ', 'Asesor Académico', 'Asesor Financiero ', 'Asesor Escolar'],\n",
       "      dtype='object')"
      ]
     },
     "execution_count": 10,
     "metadata": {},
     "output_type": "execute_result"
    }
   ],
   "source": [
    "reprobados_mod4 = database[(database['Matricula'].isin(matricula_reprobados)) & (database['M4'] == 4)]\n",
    "reprobados_mod4 = pd.merge(extras, reprobados_mod4, on = 'Matricula')\n",
    "reprobados_mod4.columns"
   ]
  },
  {
   "cell_type": "code",
   "execution_count": 11,
   "metadata": {},
   "outputs": [],
   "source": [
    "reprobados_mod4 = reprobados_mod4[['Matricula', 'Nombre', 'Calificacion', 'Materias', 'Clave Carrera', 'Tipo Calificacion', 'Centro Enlace', 'M4', 'Correo', 'Teléfono', 'Teléfono2', 'Asesor Académico', 'Asesor Financiero ', 'Asesor Escolar']]"
   ]
  },
  {
   "cell_type": "code",
   "execution_count": 12,
   "metadata": {},
   "outputs": [
    {
     "data": {
      "text/plain": [
       "(21, 14)"
      ]
     },
     "execution_count": 12,
     "metadata": {},
     "output_type": "execute_result"
    }
   ],
   "source": [
    "reprobados_mod4.shape"
   ]
  },
  {
   "cell_type": "markdown",
   "metadata": {},
   "source": [
    "#### Archivos de utilidad"
   ]
  },
  {
   "cell_type": "code",
   "execution_count": 13,
   "metadata": {},
   "outputs": [
    {
     "name": "stdout",
     "output_type": "stream",
     "text": [
      "['BNL099575', 'BNL101971', 'BNL103357', 'BNL103889', 'AL103269', 'AL103798', 'BNL100961', 'BNL102647', 'BNL103330', 'BNL103890', 'BNL065238', 'BNL032654', 'AL069900', 'AL089432', 'AL093752', 'AL094015', 'BNL085130', 'BNL088729', 'BNL095698', 'AL085284', 'BNL083647']\n"
     ]
    }
   ],
   "source": [
    "path2 = 'infodata/'\n",
    "try: \n",
    "    matric_error = pd.read_csv(path2 + 'matriculas_error.csv')\n",
    "    matric_yacontactadas = pd.read_csv(path2 + 'matriculas_yacontactadas.csv')\n",
    "    \n",
    "    matric_error = matric_error.dropna().values.flatten().tolist()\n",
    "    matric_yacontactadas = matric_yacontactadas.dropna().values.flatten().tolist()\n",
    "except:\n",
    "    matric_error = pd.DataFrame\n",
    "    matric_yacontactadas = pd.DataFrame\n",
    "    \n",
    "print(matric_error)"
   ]
  },
  {
   "cell_type": "markdown",
   "metadata": {},
   "source": [
    "Mensaje predeterminado para alumnos"
   ]
  },
  {
   "cell_type": "code",
   "execution_count": 14,
   "metadata": {},
   "outputs": [
    {
     "name": "stdout",
     "output_type": "stream",
     "text": [
      "Matricula antes contactada: UVNL029717, alumno: CARLOS VELAZQUEZ BANDA\n",
      "Matricula antes contactada: AL067659, alumno: MARVID HANIEL ACOSTA RODRIGUEZ\n",
      "Enviado a: AL073152, CHRISTOFER ROBIN SOTO SANCHEZ\n",
      "Matricula antes contactada: AL084790, alumno: KEVIN ALEJANDRO VEGA VEGA\n",
      "Matricula antes contactada: AL085284, alumno: LAURA EDITH MORENO GAMEZ\n",
      "Matricula antes contactada: AL089408, alumno: ALESSANDRA ELIZABETH SALAZAR HERNANDEZ\n",
      "Matricula antes contactada: BNL064346, alumno: DIEGO ALBERTO GALVAN GONZALEZ\n",
      "Matricula antes contactada: BNL067709, alumno: MAYRA ADRIANA  BETANCOURT HERNANDEZ\n",
      "Matricula antes contactada: BNL071412, alumno: PAOLA MARGARITA LOREDO GONZALEZ\n",
      "Enviado a: BNL072590, RAMIRO RAMOS SANTOS\n",
      "Matricula antes contactada: BNL073667, alumno: JORGE EDUARDO ALVARADO CAVAZOS\n",
      "Matricula antes contactada: BNL075497, alumno: ANGELA JAZMIN CARRILLO VAZQUEZ\n",
      "Matricula antes contactada: BNL083647, alumno: FRANCISCO VILLA RODRIGUEZ\n",
      "Matricula antes contactada: BNL085115, alumno: SCARLETT AMAYRANI LOPEZ TOVAR\n",
      "Matricula antes contactada: BNL087421, alumno: LIONEL TURRUBIARTES GALVAN\n",
      "Matricula antes contactada: BNL089250, alumno: FRIDA NITCHE TREVIÑO GONZALEZ\n",
      "Matricula antes contactada: BNL095997, alumno: BRAYAN SALOMON VASQUEZ SOLIS\n",
      "Matricula antes contactada: BNL096292, alumno: JOSUE PATRICIO DE LA ROSA SANCHEZ\n",
      "Matricula antes contactada: BNL096876, alumno: CARLOS RAMIREZ LUNA\n",
      "Matricula antes contactada: BNL099720, alumno: JOAN SEBASTIAN HERNANDEZ GONZALEZ\n",
      "Matricula antes contactada: UVNL033108, alumno: CARLOS JAIR MACIAS SANDOVAL\n"
     ]
    }
   ],
   "source": [
    "for index, row in reprobados_mod4.iterrows():\n",
    "    alumno = row['Nombre']\n",
    "    matricula = row['Matricula']\n",
    "    tipoExamen = row['Tipo Calificacion']\n",
    "    materias = row['Materias']\n",
    "    telefono = row['Teléfono']\n",
    "    \n",
    "    if not np.isnan(telefono):\n",
    "        telefono = '+52 '+str(telefono)\n",
    "    if matricula in (matric_error):\n",
    "        if not np.isnan(row['Teléfono2']):\n",
    "            telefono2 ='+52 '+str(row['Teléfono2'])\n",
    "            # print(telefono, telefono2)\n",
    "            telefono = telefono2\n",
    "\n",
    "    if matricula in matric_yacontactadas:\n",
    "        print('Matricula antes contactada: {}, alumno: {}'.format(matricula, alumno))\n",
    "    else:\n",
    "        mensaje = 'Se acerca la fecha de Extraordinarios. ¿Cómo te encuentras ' + alumno + ' ' + matricula + '? \\nTe habla Román Rodríguez Tutor Presencial del CNCI, me comunico contigo debido a que veo que dejaste en ' + tipoExamen + ' la(s) siguiente(s) materia(s): ' + materias +'. \\n¿Me gustaría saber si puedo apoyarte con el proceso de regularización? \\nTe dejo las fechas siguientes:'\n",
    "        # mensaje2 = 'Hola, que tal ' + alumno + ' ' + matricula_reprobados + ', soy Román Rodríguez tu Tutor Presencial del CNCI, me comunico contigo debido a que veo que dejaste en ' + tipoExamen + 'la(s) siguiente(s) materia(s): ' + materias +'. ¿Me gustaría saber si puedo apoyarte con el proceso de tus materias en extraordinario?.'\n",
    "        print('Enviado a: {}, {}'.format(matricula, alumno))\n",
    "        # wpp.sendwhat_image(telefono, imagen, mensaje, 25, True)"
   ]
  },
  {
   "cell_type": "markdown",
   "metadata": {},
   "source": [
    "# Consultas"
   ]
  },
  {
   "cell_type": "code",
   "execution_count": 15,
   "metadata": {},
   "outputs": [
    {
     "data": {
      "text/html": [
       "<div>\n",
       "<style scoped>\n",
       "    .dataframe tbody tr th:only-of-type {\n",
       "        vertical-align: middle;\n",
       "    }\n",
       "\n",
       "    .dataframe tbody tr th {\n",
       "        vertical-align: top;\n",
       "    }\n",
       "\n",
       "    .dataframe thead th {\n",
       "        text-align: right;\n",
       "    }\n",
       "</style>\n",
       "<table border=\"1\" class=\"dataframe\">\n",
       "  <thead>\n",
       "    <tr style=\"text-align: right;\">\n",
       "      <th></th>\n",
       "      <th>Matricula</th>\n",
       "      <th>Nombre</th>\n",
       "      <th>Calificacion</th>\n",
       "      <th>Materias</th>\n",
       "      <th>Clave Carrera</th>\n",
       "      <th>Tipo Calificacion</th>\n",
       "      <th>Centro Enlace</th>\n",
       "    </tr>\n",
       "  </thead>\n",
       "  <tbody>\n",
       "    <tr>\n",
       "      <th>236</th>\n",
       "      <td>BNL088083</td>\n",
       "      <td>CARLOS ALBERTO DIAZ DAMASO</td>\n",
       "      <td>6</td>\n",
       "      <td>MÉTODOS NUMÉRICOS</td>\n",
       "      <td>IGE</td>\n",
       "      <td>Extraordinario</td>\n",
       "      <td>CC CADEREYTA</td>\n",
       "    </tr>\n",
       "  </tbody>\n",
       "</table>\n",
       "</div>"
      ],
      "text/plain": [
       "     Matricula                      Nombre  Calificacion           Materias  \\\n",
       "236  BNL088083  CARLOS ALBERTO DIAZ DAMASO             6  MÉTODOS NUMÉRICOS   \n",
       "\n",
       "    Clave Carrera Tipo Calificacion Centro Enlace  \n",
       "236           IGE    Extraordinario  CC CADEREYTA  "
      ]
     },
     "execution_count": 15,
     "metadata": {},
     "output_type": "execute_result"
    }
   ],
   "source": [
    "extras[extras['Matricula']== 'BNL088083']"
   ]
  },
  {
   "cell_type": "code",
   "execution_count": 16,
   "metadata": {},
   "outputs": [
    {
     "data": {
      "text/html": [
       "<div>\n",
       "<style scoped>\n",
       "    .dataframe tbody tr th:only-of-type {\n",
       "        vertical-align: middle;\n",
       "    }\n",
       "\n",
       "    .dataframe tbody tr th {\n",
       "        vertical-align: top;\n",
       "    }\n",
       "\n",
       "    .dataframe thead th {\n",
       "        text-align: right;\n",
       "    }\n",
       "</style>\n",
       "<table border=\"1\" class=\"dataframe\">\n",
       "  <thead>\n",
       "    <tr style=\"text-align: right;\">\n",
       "      <th></th>\n",
       "      <th>NOMBRE</th>\n",
       "      <th>Matricula</th>\n",
       "      <th>CE CANALIZADO</th>\n",
       "      <th>CARRERA</th>\n",
       "      <th>M4</th>\n",
       "      <th>Correo</th>\n",
       "      <th>Teléfono</th>\n",
       "      <th>Teléfono2</th>\n",
       "      <th>Teléfono3</th>\n",
       "      <th>CURP</th>\n",
       "      <th>Agente</th>\n",
       "      <th>Asesor Académico</th>\n",
       "      <th>Asesor Financiero</th>\n",
       "      <th>Asesor Escolar</th>\n",
       "    </tr>\n",
       "  </thead>\n",
       "  <tbody>\n",
       "    <tr>\n",
       "      <th>613</th>\n",
       "      <td>CARLOS ALBERTO DIAZ DAMASO</td>\n",
       "      <td>BNL088083</td>\n",
       "      <td>CE CADEREYTA</td>\n",
       "      <td>IGE</td>\n",
       "      <td>1</td>\n",
       "      <td>cadd_43@hotmail.com</td>\n",
       "      <td>8187772623</td>\n",
       "      <td>NaN</td>\n",
       "      <td>NaN</td>\n",
       "      <td>DIDC950206HVZZMR07</td>\n",
       "      <td>Coordinador Cadereyta</td>\n",
       "      <td>Cecilia Rodriguez</td>\n",
       "      <td>Saúl Garza</td>\n",
       "      <td>Angel Sandoval</td>\n",
       "    </tr>\n",
       "  </tbody>\n",
       "</table>\n",
       "</div>"
      ],
      "text/plain": [
       "                         NOMBRE  Matricula CE CANALIZADO CARRERA M4  \\\n",
       "613  CARLOS ALBERTO DIAZ DAMASO  BNL088083  CE CADEREYTA     IGE  1   \n",
       "\n",
       "                  Correo    Teléfono Teléfono2 Teléfono3                CURP  \\\n",
       "613  cadd_43@hotmail.com  8187772623       NaN       NaN  DIDC950206HVZZMR07   \n",
       "\n",
       "                   Agente    Asesor Académico Asesor Financiero   \\\n",
       "613  Coordinador Cadereyta  Cecilia Rodriguez         Saúl Garza   \n",
       "\n",
       "     Asesor Escolar  \n",
       "613  Angel Sandoval  "
      ]
     },
     "execution_count": 16,
     "metadata": {},
     "output_type": "execute_result"
    }
   ],
   "source": [
    "database[database['Matricula']== 'BNL088083']"
   ]
  }
 ],
 "metadata": {
  "kernelspec": {
   "display_name": "Python 3",
   "language": "python",
   "name": "python3"
  },
  "language_info": {
   "codemirror_mode": {
    "name": "ipython",
    "version": 3
   },
   "file_extension": ".py",
   "mimetype": "text/x-python",
   "name": "python",
   "nbconvert_exporter": "python",
   "pygments_lexer": "ipython3",
   "version": "3.12.3"
  }
 },
 "nbformat": 4,
 "nbformat_minor": 2
}
