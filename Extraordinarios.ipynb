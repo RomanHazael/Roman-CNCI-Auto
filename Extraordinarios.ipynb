{
 "cells": [
  {
   "cell_type": "code",
   "execution_count": null,
   "metadata": {},
   "outputs": [],
   "source": [
    "import pandas as pd\n",
    "import numpy as np\n",
    "import pywhatkit as wpp\n",
    "from datetime import datetime \n",
    "\n",
    "#SetOptions para ver los dataframes\n",
    "#pd.set_option('display.max_rows', None)\n",
    "# pd.set_option('display.max_columns', None)\n",
    "# pd.set_option('display.width', None)\n",
    "# pd.set_option('display.max_colwidth',False)"
   ]
  },
  {
   "cell_type": "markdown",
   "metadata": {},
   "source": [
    "Lectura del Excel"
   ]
  },
  {
   "cell_type": "code",
   "execution_count": null,
   "metadata": {},
   "outputs": [],
   "source": [
    "path = 'Data/'\n",
    "mes = datetime.now().month\n",
    "\n",
    "extras = pd.read_excel(path + \"Román - M{} Seguimiento.xlsx\".format(mes), sheet_name = \"Extras\")\n",
    "database = pd.read_excel(path + \"BASE CNCI.xlsx\", sheet_name = 'Activos')\n"
   ]
  },
  {
   "cell_type": "code",
   "execution_count": null,
   "metadata": {},
   "outputs": [],
   "source": [
    "extras.columns"
   ]
  },
  {
   "cell_type": "markdown",
   "metadata": {},
   "source": [
    "Limpieza de Columnas"
   ]
  },
  {
   "cell_type": "code",
   "execution_count": null,
   "metadata": {},
   "outputs": [],
   "source": [
    "extras = extras[[\"Matricula\",\"Nombre\",\"Calificacion\", \"Materia\",\"Clave Carrera\", \"Tipo Calificacion\", \"Centro Enlace\"]]\n",
    "extras.shape"
   ]
  },
  {
   "cell_type": "markdown",
   "metadata": {},
   "source": [
    "Filtran solo de Cadereyta y CC Cadereyta"
   ]
  },
  {
   "cell_type": "code",
   "execution_count": null,
   "metadata": {},
   "outputs": [],
   "source": [
    "extras = extras[extras[\"Centro Enlace\"].isin([\"CADEREYTA\", \"CC CADEREYTA\"])]"
   ]
  },
  {
   "cell_type": "markdown",
   "metadata": {},
   "source": [
    "Se agrupan en una nueva columna las materias del alumno"
   ]
  },
  {
   "cell_type": "markdown",
   "metadata": {},
   "source": [
    "Se Elimina la fila de Materias al final ya que pasa al frente.\n",
    "Filtro de duplicados. Renombra la columna Materia por Materia."
   ]
  },
  {
   "cell_type": "code",
   "execution_count": null,
   "metadata": {},
   "outputs": [],
   "source": [
    "df_agrupado = extras.groupby(\"Nombre\")[\"Materia\"].agg(lambda x: \", \".join(x)).reset_index().rename(columns = {\"Materia\": \"Materias\"})\n",
    "extras = pd.merge(extras, df_agrupado, on = \"Nombre\", how = \"left\")     \n",
    "\n",
    "#Cambio de columna y eliminar la extra\n",
    "columna_extra = extras[\"Materias\"]\n",
    "extras.drop(columns = [\"Materias\"], inplace=True)\n",
    "extras[\"Materia\"] = columna_extra\n",
    "\n",
    "#Filtra dúplicados\n",
    "extras = extras.drop_duplicates( subset = \"Nombre\")\n",
    "#Renombra\n",
    "extras.rename(columns = {\"Materia\" : \"Materias\"}, inplace= True)"
   ]
  },
  {
   "cell_type": "markdown",
   "metadata": {},
   "source": [
    "Se eliminan todas las columnas después de la columna CELULAR. \n",
    "Se elimina la columna TUTOR ya que está vacía.\n",
    "Cambia el formato de las columnas TELÉFONO y CELULAR"
   ]
  },
  {
   "cell_type": "code",
   "execution_count": null,
   "metadata": {},
   "outputs": [],
   "source": [
    "#Se elimina USUARIO BB,PASSWORD PORTAL ALUMNO, PROYECTO, MODELO EDUCATIVO, SERVICIO, Modalidad, Monto, Correo 2\n",
    "database.drop(columns = [\"USUARIO BB\",\"PASSWORD PORTAL \\nALUMNO\", 'PROYECTO','MODELO EDUCATIVO', 'Fecha', 'SERVICIO', 'Fecha de inicio','Modalidad', 'Monto', 'Correo 2'], inplace=True)\n",
    "\n",
    "#Renombrar el nombre de la columna NOMBRE\n",
    "database.rename(columns = {'NOMBRE                                                                                                                                      ' : \"NOMBRE\"}, inplace= True)\n",
    "database.rename(columns = {'MATRICULA' : \"Matricula\"}, inplace= True)\n",
    "#Cambia el formato de las columnas TELÉFONO y CELULAR\n",
    "#df02_final[\"TELÉFONO\"] = df02_final[\"TELÉFONO\"].astype(str).apply(lambda x: \"{:.0f}\".format(float(x)))\n",
    "#df02_final[\"CELULAR\"] = df02_final[\"CELULAR\"].astype(str).apply(lambda x: \"{:.0f}\".format(float(x)))\n",
    "database\n",
    "\n",
    "# Filtro Cadereyta\n",
    "database = database[database['CE CANALIZADO'] == 'CE CADEREYTA']"
   ]
  },
  {
   "cell_type": "markdown",
   "metadata": {},
   "source": [
    "Lista de los NOMBRES y MATRICULAS de los Reprobados"
   ]
  },
  {
   "cell_type": "code",
   "execution_count": null,
   "metadata": {},
   "outputs": [],
   "source": [
    "matricula_reprobados = extras['Matricula'].unique()\n",
    "matricula_reprobados"
   ]
  },
  {
   "cell_type": "markdown",
   "metadata": {},
   "source": [
    "Reprobados que están en el Módulo 4"
   ]
  },
  {
   "cell_type": "code",
   "execution_count": null,
   "metadata": {},
   "outputs": [],
   "source": [
    "extras.columns"
   ]
  },
  {
   "cell_type": "markdown",
   "metadata": {},
   "source": [
    "Tabla comprendida en la cual solo está la información de los reprobados que están en Módulo 4"
   ]
  },
  {
   "cell_type": "code",
   "execution_count": null,
   "metadata": {},
   "outputs": [],
   "source": [
    "reprobados_mod4 = database[(database['Matricula'].isin(matricula_reprobados)) & (database['M4'] == 4)]\n",
    "reprobados_mod4 = pd.merge(extras, reprobados_mod4, on = 'Matricula')\n",
    "reprobados_mod4.columns"
   ]
  },
  {
   "cell_type": "code",
   "execution_count": null,
   "metadata": {},
   "outputs": [],
   "source": [
    "reprobados_mod4 = reprobados_mod4[['Matricula', 'Nombre', 'Calificacion', 'Materias', 'Clave Carrera', 'Tipo Calificacion', 'Centro Enlace', 'M4', 'Correo', 'Teléfono', 'Teléfono2', 'Asesor Académico', 'Asesor Financiero ', 'Asesor Escolar']]"
   ]
  },
  {
   "cell_type": "code",
   "execution_count": null,
   "metadata": {},
   "outputs": [],
   "source": [
    "reprobados_mod4.shape"
   ]
  },
  {
   "cell_type": "markdown",
   "metadata": {},
   "source": [
    "#### Archivos de utilidad"
   ]
  },
  {
   "cell_type": "code",
   "execution_count": null,
   "metadata": {},
   "outputs": [],
   "source": [
    "path2 = 'infodata/'\n",
    "try: \n",
    "    matric_error = pd.read_csv(path2 + 'matriculas_error.csv')\n",
    "    matric_yacontactadas = pd.read_csv(path2 + 'matriculas_yacontactadas.csv')\n",
    "    \n",
    "    matric_error = matric_error.dropna().values.flatten().tolist()\n",
    "    matric_yacontactadas = matric_yacontactadas.dropna().values.flatten().tolist()\n",
    "except:\n",
    "    matric_error = pd.DataFrame\n",
    "    matric_yacontactadas = pd.DataFrame\n",
    "    \n",
    "print(matric_error)"
   ]
  },
  {
   "cell_type": "markdown",
   "metadata": {},
   "source": [
    "Mensaje predeterminado para alumnos"
   ]
  },
  {
   "cell_type": "code",
   "execution_count": null,
   "metadata": {},
   "outputs": [],
   "source": [
    "for index, row in reprobados_mod4.iterrows():\n",
    "    alumno = row['Nombre']\n",
    "    matricula = row['Matricula']\n",
    "    tipoExamen = row['Tipo Calificacion']\n",
    "    materias = row['Materias']\n",
    "    telefono = row['Teléfono']\n",
    "    print(telefono)\n",
    "    if not np.isnan(telefono):\n",
    "        telefono = '+52 '+str(telefono)\n",
    "    if matricula in (matric_error):\n",
    "        if not np.isnan(row['Teléfono2']):\n",
    "            telefono2 ='+52 '+str(row['Teléfono2'])\n",
    "            # print(telefono, telefono2)\n",
    "            telefono = telefono2\n",
    "            print('Matricula con error: {}, Alumno: {}'.format(matricula, alumno))\n",
    "\n",
    "    if matricula in matric_yacontactadas:\n",
    "        print('Matricula antes contactada: {}, alumno: {}'.format(matricula, alumno))\n",
    "    else:\n",
    "        mensaje = 'Se acerca la fecha de Extraordinarios. ¿Cómo te encuentras ' + alumno + ' ' + matricula + '? \\nTe habla Román Rodríguez Tutor Presencial del CNCI, me comunico contigo debido a que veo que dejaste en ' + tipoExamen + ' la(s) siguiente(s) materia(s): ' + materias +'. \\n¿Me gustaría saber si puedo apoyarte con el proceso de regularización? \\nTe dejo las fechas siguientes:'\n",
    "        # mensaje2 = 'Hola, que tal ' + alumno + ' ' + matricula_reprobados + ', soy Román Rodríguez tu Tutor Presencial del CNCI, me comunico contigo debido a que veo que dejaste en ' + tipoExamen + 'la(s) siguiente(s) materia(s): ' + materias +'. ¿Me gustaría saber si puedo apoyarte con el proceso de tus materias en extraordinario?.'\n",
    "        print('Enviado a: {}, {}'.format(matricula, alumno))\n",
    "        # wpp.sendwhat_image(telefono, imagen, mensaje, 25, True)"
   ]
  },
  {
   "cell_type": "markdown",
   "metadata": {},
   "source": [
    "# Consultas"
   ]
  },
  {
   "cell_type": "code",
   "execution_count": null,
   "metadata": {},
   "outputs": [],
   "source": [
    "extras[extras['Matricula']== 'BNL088083']"
   ]
  },
  {
   "cell_type": "code",
   "execution_count": null,
   "metadata": {},
   "outputs": [],
   "source": [
    "database[database['Matricula']== 'BNL088083']"
   ]
  },
  {
   "cell_type": "markdown",
   "metadata": {},
   "source": [
    "Avances nuevos"
   ]
  },
  {
   "cell_type": "code",
   "execution_count": null,
   "metadata": {},
   "outputs": [],
   "source": [
    "def extras_AF(destinatario):\n",
    "    from email.message import EmailMessage\n",
    "    import smtplib\n",
    "\n",
    "    remitente = str(input(\"Correo?: \")) \n",
    "    password = str(input(\"Contraseña?: \"))\n",
    "\n",
    "    mensaje = \"¡Hola, mundo!\"\n",
    "    email = EmailMessage()\n",
    "    email[\"From\"] = remitente\n",
    "    email[\"To\"] = destinatario\n",
    "    email[\"Subject\"] = \"Correo de prueba\"\n",
    "    email.set_content(mensaje)\n",
    "    # smtp = smtplib.SMTP(\"smtp-mail.outlook.com\", port=587)\n",
    "    smtp = smtplib.SMTP(\"smtp.office365.com\", port=587)\n",
    "    smtp.starttls()\n",
    "    smtp.login(remitente, password)\n",
    "    smtp.sendmail(remitente, destinatario, email.as_string())"
   ]
  }
 ],
 "metadata": {
  "kernelspec": {
   "display_name": "Python 3",
   "language": "python",
   "name": "python3"
  },
  "language_info": {
   "codemirror_mode": {
    "name": "ipython",
    "version": 3
   },
   "file_extension": ".py",
   "mimetype": "text/x-python",
   "name": "python",
   "nbconvert_exporter": "python",
   "pygments_lexer": "ipython3",
   "version": "3.12.3"
  }
 },
 "nbformat": 4,
 "nbformat_minor": 2
}
