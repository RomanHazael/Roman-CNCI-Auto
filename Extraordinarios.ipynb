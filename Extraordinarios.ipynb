{
 "cells": [
  {
   "cell_type": "code",
   "execution_count": null,
   "metadata": {},
   "outputs": [],
   "source": [
    "import pandas as pd\n",
    "import pywhatkit as wpp\n",
    "from datetime import datetime \n",
    "\n",
    "#SetOptions para ver los dataframes\n",
    "#pd.set_option('display.max_rows', None)\n",
    "# pd.set_option('display.max_columns', None)\n",
    "# pd.set_option('display.width', None)\n",
    "# pd.set_option('display.max_colwidth',False)"
   ]
  },
  {
   "cell_type": "markdown",
   "metadata": {},
   "source": [
    "Funciones"
   ]
  },
  {
   "cell_type": "code",
   "execution_count": null,
   "metadata": {},
   "outputs": [],
   "source": [
    "def clean_extras(df_e):\n",
    "    # Columnas importantes\n",
    "    df_e = df_e[[\"Matricula\",\"Nombre\",\"Calificacion\", \"Materia\",\"Clave Carrera\", \"Tipo Calificacion\", \"Centro Enlace\"]]\n",
    "    \n",
    "    # Filtro CE\n",
    "    df_e = df_e[df_e[\"Centro Enlace\"].isin([\"CADEREYTA\", \"CC CADEREYTA\"])]\n",
    "    \n",
    "    # Agrupacion de Materias\n",
    "    df_agrupado = df_e.groupby(\"Nombre\")[\"Materia\"].agg(lambda x: \", \".join(x)).reset_index().rename(columns = {\"Materia\": \"Materias\"})\n",
    "    df_e = pd.merge(df_e, df_agrupado, on = \"Nombre\", how = \"left\")     \n",
    "\n",
    "    #Cambio de columna y eliminar la extra\n",
    "    columna_extra = df_e[\"Materias\"]\n",
    "    df_e.drop(columns = [\"Materias\"], inplace=True)\n",
    "    df_e[\"Materia\"] = columna_extra\n",
    "\n",
    "    #Filtra dúplicados\n",
    "    df_e = df_e.drop_duplicates( subset = \"Nombre\")\n",
    "    \n",
    "    #Renombra\n",
    "    df_e.rename(columns = {\"Materia\" : \"Materias\"}, inplace= True)\n",
    "    return df_e"
   ]
  },
  {
   "cell_type": "code",
   "execution_count": null,
   "metadata": {},
   "outputs": [],
   "source": [
    "def clean_database(db):\n",
    "    #Renombrar el nombre de la columna NOMBRE\n",
    "    db.rename(columns = {'NOMBRE                                                                                                                                      ' : \"NOMBRE\", 'MATRICULA' : \"Matricula\"}, inplace= True)\n",
    "\n",
    "    # Columnas importantes\n",
    "    db = db[['NOMBRE', 'Matricula', 'CE CANALIZADO', 'CARRERA', f'M{mes}', 'Correo', 'Teléfono', 'Teléfono2', 'Teléfono3', 'CURP', 'Agente ', 'Asesor Académico', 'Asesor Financiero ', 'Asesor Escolar']]\n",
    "\n",
    "    # Filtro Cadereyta\n",
    "    # db = db[db['CE CANALIZADO'] == 'CE CADEREYTA']\n",
    "    cade = ('CADEREYTA', 'CE CADEREYTA', 'CC CADEREYTA')\n",
    "    db = db[db['CE CANALIZADO'].str.contains('|'.join(cade), case = False, na = False)]\n",
    "    return db"
   ]
  },
  {
   "cell_type": "code",
   "execution_count": null,
   "metadata": {},
   "outputs": [],
   "source": [
    "def save_extras_cont(df):\n",
    "    df2.append(datetime.now().strftime('%d/%m/%Y'))\n",
    "    df2 = pd.DataFrame(df, columns=['Matricula'])\n",
    "    df2.to_csv(path2 + 'extras_contactados.csv', index=False)"
   ]
  },
  {
   "cell_type": "code",
   "execution_count": null,
   "metadata": {},
   "outputs": [],
   "source": [
    "def search(df, matricula):\n",
    "    return df[df['Matricula'] == matricula]"
   ]
  },
  {
   "cell_type": "markdown",
   "metadata": {},
   "source": [
    "Lectura del Excel"
   ]
  },
  {
   "cell_type": "code",
   "execution_count": null,
   "metadata": {},
   "outputs": [],
   "source": [
    "path = 'Data/'\n",
    "main = 'Main/'\n",
    "try:\n",
    "    database = pd.read_csv(path + \"BASE CNCI.csv\") \n",
    "except FileNotFoundError or FileExistsError: \n",
    "    %run DatabaseCNCI.ipynb\n",
    "    print('Database CNCI.csv Created')\n",
    "    database = pd.read_csv(path + \"BASE CNCI.csv\")\n",
    "\n",
    "try: \n",
    "    extras = pd.read_csv(path + \"Extras.csv\")\n",
    "except FileNotFoundError or FileExistsError:\n",
    "    mes = datetime.now().month\n",
    "    extras = pd.read_excel(path + main + \"Román - M{} Seguimiento.xlsx\".format(mes), sheet_name = \"Extras\")\n",
    "    extras = clean_extras(extras)\n",
    "    extras.to_csv(path + 'Extras.csv', index=False)\n",
    "    print('Extras csv Created')"
   ]
  },
  {
   "cell_type": "code",
   "execution_count": null,
   "metadata": {},
   "outputs": [],
   "source": [
    "mes = datetime.now().month\n",
    "database = clean_database(database)"
   ]
  },
  {
   "cell_type": "markdown",
   "metadata": {},
   "source": [
    "Reprobados DataFrame"
   ]
  },
  {
   "cell_type": "code",
   "execution_count": null,
   "metadata": {},
   "outputs": [],
   "source": [
    "# Array de reprobados\n",
    "matricula_reprobados = extras['Matricula'].unique()\n",
    "\n",
    "# Filtro a los reprobados y M4\n",
    "reprobados_mod4 = database[(database['Matricula'].isin(matricula_reprobados)) & (database[f'M{mes}'] == '4')]\n",
    "\n",
    "# Mergear los DF\n",
    "reprobados_mod4 = pd.merge(extras, reprobados_mod4, on = 'Matricula')\n",
    "\n",
    "# Columnas necesarias\n",
    "reprobados_mod4 = reprobados_mod4[['Matricula', 'Nombre', 'Calificacion', 'Materias', 'Clave Carrera', 'Tipo Calificacion', 'Centro Enlace', f'M{mes}', 'Correo', 'Teléfono', 'Teléfono2', 'Asesor Académico', 'Asesor Financiero ', 'Asesor Escolar']]"
   ]
  },
  {
   "cell_type": "markdown",
   "metadata": {},
   "source": [
    "Archivos de utilidad"
   ]
  },
  {
   "cell_type": "code",
   "execution_count": null,
   "metadata": {},
   "outputs": [],
   "source": [
    "path2 = 'infodata/'\n",
    "imagen = 'img/Extras.jpeg'\n",
    "\n",
    "matric_error = pd.read_csv(path2 + 'matriculas_error.csv')\n",
    "matric_error = matric_error.dropna().values.flatten().tolist()\n",
    "try:\n",
    "    matric_yacontactadas = pd.read_csv(path2 + 'extras_contactados.csv')\n",
    "    matric_yacontactadas = matric_yacontactadas.dropna().values.flatten().tolist()\n",
    "except FileNotFoundError or FileExistsError:\n",
    "    matric_yacontactadas = list()"
   ]
  },
  {
   "cell_type": "markdown",
   "metadata": {},
   "source": [
    "Mensaje predeterminado para alumnos"
   ]
  },
  {
   "cell_type": "code",
   "execution_count": null,
   "metadata": {},
   "outputs": [],
   "source": [
    "for index, row in reprobados_mod4.iterrows():\n",
    "    alumno = row['Nombre']\n",
    "    matricula = row['Matricula']\n",
    "    tipoExamen = row['Tipo Calificacion']\n",
    "    materias = row['Materias']\n",
    "    af = row['Asesor Financiero ']\n",
    "    telefono = row['Teléfono']\n",
    "    \n",
    "    if not pd.isna(telefono):\n",
    "        telefono = '+52 '+str(telefono)\n",
    "    if matricula in (matric_error):\n",
    "        if not pd.isna(row['Teléfono2']):\n",
    "            telefono2 ='+52 '+str(row['Teléfono2'])\n",
    "            # print(telefono, telefono2)\n",
    "            telefono = telefono2\n",
    "            print('Matricula con error: {}, Alumno: {}'.format(matricula, alumno))\n",
    "\n",
    "    if matricula in matric_yacontactadas:\n",
    "        print('Matricula antes contactada: {}, alumno: {}'.format(matricula, alumno))\n",
    "    else:\n",
    "        mensaje = 'Se acerca la fecha de *Extraordinarios*. ¿Cómo te encuentras ' + alumno + ' ' + matricula + '? \\nTe habla _Román Rodríguez_ Tutor Presencial del CNCI, me comunico contigo debido a que veo que dejaste en ' + tipoExamen + ' la(s) siguiente(s) materia(s): *' + materias +'*. \\n¿Me gustaría saber si puedo apoyarte con el proceso de regularización? \\nTe dejo las fechas siguientes:'\n",
    "        print('Enviado a: {}, {}'.format(matricula, alumno))\n",
    "        matric_yacontactadas.append(matricula)\n",
    "        # wpp.sendwhats_image(telefono, imagen, mensaje, 25, True)\n",
    "\n",
    "save_extras_cont()"
   ]
  },
  {
   "cell_type": "code",
   "execution_count": null,
   "metadata": {},
   "outputs": [],
   "source": [
    "from PIL import Image\n",
    "import matplotlib.pyplot as plt\n",
    "\n",
    "# Lee la imagen\n",
    "# print(alumno, resultado)\n",
    "figure = Image.open(imagen)\n",
    "# Muestra la imagen\n",
    "plt.imshow(figure)\n",
    "plt.axis('off')  # Desactiva los ejes\n",
    "plt.show()"
   ]
  },
  {
   "cell_type": "markdown",
   "metadata": {},
   "source": [
    "# Consultas"
   ]
  },
  {
   "cell_type": "code",
   "execution_count": null,
   "metadata": {},
   "outputs": [],
   "source": [
    "reprobados_mod4[reprobados_mod4['Matricula']== 'BNL093535'][['Matricula','Nombre', 'Asesor Financiero ']]"
   ]
  },
  {
   "cell_type": "code",
   "execution_count": null,
   "metadata": {},
   "outputs": [],
   "source": [
    "extras[extras['Matricula']== 'BNL088083']"
   ]
  },
  {
   "cell_type": "code",
   "execution_count": null,
   "metadata": {},
   "outputs": [],
   "source": [
    "database[database['Matricula']== 'BNL088083']"
   ]
  },
  {
   "cell_type": "markdown",
   "metadata": {},
   "source": [
    "Avances nuevos"
   ]
  },
  {
   "cell_type": "code",
   "execution_count": null,
   "metadata": {},
   "outputs": [],
   "source": [
    "# Outlook Email : https://recursospython.com/guias-y-manuales/enviar-correo-electronico-via-outlook-y-smtp/\n",
    "\n",
    "def extra_AF(destinatario):\n",
    "    from email.message import EmailMessage\n",
    "    import smtplib\n",
    "\n",
    "    remitente = str(input(\"Correo?: \")) \n",
    "    password = str(input(\"Contraseña?: \"))\n",
    "\n",
    "    mensaje = \"¡Hola, mundo!\"\n",
    "    email = EmailMessage()\n",
    "    email[\"From\"] = remitente\n",
    "    email[\"To\"] = destinatario\n",
    "    email[\"Subject\"] = \"Correo de prueba\"\n",
    "    email.set_content(mensaje)\n",
    "    # smtp = smtplib.SMTP(\"smtp-mail.outlook.com\", port=587)\n",
    "    smtp = smtplib.SMTP(\"smtp.office365.com\", port=587)\n",
    "    smtp.starttls()\n",
    "    smtp.login(remitente, password)\n",
    "    smtp.sendmail(remitente, destinatario, email.as_string())"
   ]
  },
  {
   "cell_type": "code",
   "execution_count": null,
   "metadata": {},
   "outputs": [],
   "source": [
    "# Prototipo de funcion para mostrar todo el contenido\n",
    "def extend(df):\n",
    "    pd.set_option('display.max_rows', None)\n",
    "    pd.set_option('display.max_columns', None)\n",
    "    # pd.set_option('display.width', None)\n",
    "    # pd.set_option('display.max_colwidth',False)\n",
    "    df2 = df\n",
    "    return df2"
   ]
  }
 ],
 "metadata": {
  "kernelspec": {
   "display_name": "Python 3",
   "language": "python",
   "name": "python3"
  },
  "language_info": {
   "codemirror_mode": {
    "name": "ipython",
    "version": 3
   },
   "file_extension": ".py",
   "mimetype": "text/x-python",
   "name": "python",
   "nbconvert_exporter": "python",
   "pygments_lexer": "ipython3",
   "version": "3.12.3"
  }
 },
 "nbformat": 4,
 "nbformat_minor": 2
}
