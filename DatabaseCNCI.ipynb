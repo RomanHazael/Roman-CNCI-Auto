{
 "cells": [
  {
   "cell_type": "code",
   "execution_count": null,
   "metadata": {},
   "outputs": [],
   "source": [
    "import pandas as pd\n",
    "from datetime import datetime"
   ]
  },
  {
   "cell_type": "code",
   "execution_count": null,
   "metadata": {},
   "outputs": [],
   "source": [
    "def dias():\n",
    "    reference_day = datetime(2024, 1, 8)\n",
    "    today = datetime.now()\n",
    "    deltaday = (today - reference_day).days\n",
    "    \n",
    "    deltaday -= 4 if today.month == 8 and today.day >= 5 else ''\n",
    "    \n",
    "    sem = int(deltaday // 7 % 4)\n",
    "    sem = 4 if sem == 0 else sem\n",
    "    mes = today.month - reference_day.month +1\n",
    "    year = 2024\n",
    "    return sem, mes, year"
   ]
  },
  {
   "cell_type": "code",
   "execution_count": null,
   "metadata": {},
   "outputs": [],
   "source": [
    "sem , mes, year = dias()"
   ]
  },
  {
   "cell_type": "markdown",
   "metadata": {},
   "source": [
    "Lectura de Excels"
   ]
  },
  {
   "cell_type": "code",
   "execution_count": null,
   "metadata": {},
   "outputs": [],
   "source": [
    "path = 'Data/'\n",
    "\n",
    "blended = pd.read_excel(path + \"Main/BASE BLENDED NL S{:d}M{:02d} {}.xlsx\".format(sem, mes, year), sheet_name = 'ACTIVOS')\n",
    "continui = pd.read_excel(path + \"Main/BASE NL CONTINUIDAD S{:d}M{:02d} {}.xlsx\".format(sem, mes, year), sheet_name = 'ACTIVOS')\n",
    "master = pd.read_excel(path + \"Main/BASE BLENDED NL S{:d}M{:02d} {}.xlsx\".format(sem, mes, year), sheet_name = 'MAESTRIA ACTIVOS')"
   ]
  },
  {
   "cell_type": "markdown",
   "metadata": {},
   "source": [
    "Filtrado y Limpieza de DataFrame"
   ]
  },
  {
   "cell_type": "code",
   "execution_count": null,
   "metadata": {},
   "outputs": [],
   "source": [
    "columna_limite = \"Asesor Escolar\" \n",
    "columnas_conservadas = blended.columns[:blended.columns.get_loc(columna_limite) + 1] # Se conservan solo las columnas hasta la columna límite\n",
    "blended = blended[columnas_conservadas]"
   ]
  },
  {
   "cell_type": "code",
   "execution_count": null,
   "metadata": {},
   "outputs": [],
   "source": [
    "columnas_conservadas = master.columns[:master.columns.get_loc(columna_limite) + 1] # Se conservan hasta la columna límite\n",
    "master = master[columnas_conservadas]"
   ]
  },
  {
   "cell_type": "code",
   "execution_count": null,
   "metadata": {},
   "outputs": [],
   "source": [
    "columnas_conservadas = continui.columns[:continui.columns.get_loc(columna_limite) + 1] # Se conservan columnas hasta la columna limite\n",
    "continui = continui[columnas_conservadas] # Se filtran por dichas columnas \n",
    "continui = continui.loc[:,'NOMBRE':] # Se filtran solo las que están después de NOMBRE"
   ]
  },
  {
   "cell_type": "code",
   "execution_count": null,
   "metadata": {},
   "outputs": [],
   "source": [
    "continui.columns = blended.columns\n",
    "master.columns = blended.columns"
   ]
  },
  {
   "cell_type": "markdown",
   "metadata": {},
   "source": [
    "Concatenar y Exportar"
   ]
  },
  {
   "cell_type": "code",
   "execution_count": null,
   "metadata": {},
   "outputs": [],
   "source": [
    "database_cnci = pd.concat([blended, continui, master])\n",
    "# database_cnci.to_excel('Data/BASE CNCI.xlsx', sheet_name='Activos', index=False)\n",
    "database_cnci.to_csv('Data/BASE CNCI.csv', index=False)"
   ]
  },
  {
   "cell_type": "code",
   "execution_count": null,
   "metadata": {},
   "outputs": [],
   "source": [
    "# print(blended.shape, continui.shape, database_cnci.shape)\n",
    "# print(\"CNCI DB Test Passed\")"
   ]
  }
 ],
 "metadata": {
  "kernelspec": {
   "display_name": "Python 3",
   "language": "python",
   "name": "python3"
  },
  "language_info": {
   "codemirror_mode": {
    "name": "ipython",
    "version": 3
   },
   "file_extension": ".py",
   "mimetype": "text/x-python",
   "name": "python",
   "nbconvert_exporter": "python",
   "pygments_lexer": "ipython3",
   "version": "3.12.3"
  }
 },
 "nbformat": 4,
 "nbformat_minor": 2
}
