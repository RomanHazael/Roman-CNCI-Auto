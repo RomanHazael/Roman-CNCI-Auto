{
 "cells": [
  {
   "cell_type": "code",
   "execution_count": null,
   "metadata": {},
   "outputs": [],
   "source": [
    "import pandas as pd\n",
    "from datetime import datetime"
   ]
  },
  {
   "cell_type": "code",
   "execution_count": null,
   "metadata": {},
   "outputs": [],
   "source": [
    "def dias():\n",
    "    reference_day = datetime(2024, 1, 8)\n",
    "    today = datetime.now()\n",
    "    deltaday = (today - reference_day).days\n",
    "\n",
    "    sem = int(deltaday // 7 / 4)\n",
    "    mes = today.month - reference_day.month +1\n",
    "    year = 2024\n",
    "    return sem, mes, year"
   ]
  },
  {
   "cell_type": "code",
   "execution_count": null,
   "metadata": {},
   "outputs": [],
   "source": [
    "sem , mes, year = dias()"
   ]
  },
  {
   "cell_type": "code",
   "execution_count": null,
   "metadata": {},
   "outputs": [],
   "source": [
    "path = 'Data/'\n",
    "\n",
    "blended = pd.read_excel(path + \"Main/BASE BLENDED NL S{:d}M{:02d} {}.xlsx\".format(sem, mes, year), sheet_name = 'ACTIVOS')\n",
    "continui = pd.read_excel(path + \"Main/BASE NL CONTINUIDAD S{:d}M{:02d} {}.xlsx\".format(sem, mes, year), sheet_name = 'ACTIVOS')"
   ]
  },
  {
   "cell_type": "code",
   "execution_count": null,
   "metadata": {},
   "outputs": [],
   "source": [
    "columna_limite = \"Asesor Escolar\"\n",
    "columnas_conservadas = blended.columns[:blended.columns.get_loc(columna_limite) + 1]\n",
    "blended = blended[columnas_conservadas] "
   ]
  },
  {
   "cell_type": "code",
   "execution_count": null,
   "metadata": {},
   "outputs": [],
   "source": [
    "columna_limite = \"Asesor Escolar\"\n",
    "columnas_conservadas = continui.columns[:continui.columns.get_loc(columna_limite) + 1]\n",
    "continui = continui[columnas_conservadas] \n",
    "continui = continui.loc[:,'NOMBRE':]"
   ]
  },
  {
   "cell_type": "code",
   "execution_count": null,
   "metadata": {},
   "outputs": [],
   "source": [
    "continui.columns = blended.columns"
   ]
  },
  {
   "cell_type": "code",
   "execution_count": null,
   "metadata": {},
   "outputs": [],
   "source": [
    "database_cnci = pd.concat([blended, continui])\n",
    "# database_cnci.to_excel('Data/BASE CNCI.xlsx', sheet_name='Activos', index=False)\n",
    "database_cnci.to_csv('Data/BASE CNCI.csv', index=False)"
   ]
  },
  {
   "cell_type": "code",
   "execution_count": null,
   "metadata": {},
   "outputs": [],
   "source": [
    "# print(blended.shape, continui.shape, database_cnci.shape)\n",
    "# print(\"CNCI DB Test Passed\")"
   ]
  }
 ],
 "metadata": {
  "kernelspec": {
   "display_name": "Python 3",
   "language": "python",
   "name": "python3"
  },
  "language_info": {
   "codemirror_mode": {
    "name": "ipython",
    "version": 3
   },
   "file_extension": ".py",
   "mimetype": "text/x-python",
   "name": "python",
   "nbconvert_exporter": "python",
   "pygments_lexer": "ipython3",
   "version": "3.12.3"
  }
 },
 "nbformat": 4,
 "nbformat_minor": 2
}
