{
 "cells": [
  {
   "cell_type": "code",
   "execution_count": 17,
   "metadata": {},
   "outputs": [],
   "source": [
    "import pandas as pd\n",
    "from datetime import datetime"
   ]
  },
  {
   "cell_type": "code",
   "execution_count": 18,
   "metadata": {},
   "outputs": [],
   "source": [
    "path = 'Data/'\n",
    "\n",
    "dia = datetime.now().day\n",
    "sem = (int(datetime.now().strftime('%U'))) //4 - 1\n",
    "mes = datetime.now().month\n",
    "year = datetime.now().year\n",
    "\n",
    "blended = pd.read_excel(path + \"BASE BLENDED NL S{:d}M{:02d} {}.xlsx\".format(sem, mes, year), sheet_name = 'ACTIVOS')\n",
    "continui = pd.read_excel(path + \"BASE NL CONTINUIDAD S{:d}M{:02d} {}.xlsx\".format(sem, mes, year), sheet_name = 'ACTIVOS')"
   ]
  },
  {
   "cell_type": "code",
   "execution_count": 19,
   "metadata": {},
   "outputs": [],
   "source": [
    "columna_limite = \"Asesor Escolar\"\n",
    "columnas_conservadas = blended.columns[:blended.columns.get_loc(columna_limite) + 1]\n",
    "blended = blended[columnas_conservadas] "
   ]
  },
  {
   "cell_type": "code",
   "execution_count": 20,
   "metadata": {},
   "outputs": [],
   "source": [
    "columna_limite = \"Asesor Escolar\"\n",
    "columnas_conservadas = continui.columns[:continui.columns.get_loc(columna_limite) + 1]\n",
    "continui = continui[columnas_conservadas] \n",
    "continui = continui.loc[:,'NOMBRE':]"
   ]
  },
  {
   "cell_type": "code",
   "execution_count": 21,
   "metadata": {},
   "outputs": [],
   "source": [
    "continui.columns = blended.columns"
   ]
  },
  {
   "cell_type": "code",
   "execution_count": 22,
   "metadata": {},
   "outputs": [],
   "source": [
    "database_cnci = pd.concat([blended, continui])\n",
    "database_cnci.to_excel('Data/BASE CNCI.xlsx', sheet_name='Activos', index=False)"
   ]
  },
  {
   "cell_type": "code",
   "execution_count": 23,
   "metadata": {},
   "outputs": [
    {
     "name": "stdout",
     "output_type": "stream",
     "text": [
      "(2902, 24) (104, 24) (3006, 24)\n"
     ]
    }
   ],
   "source": [
    "print(blended.shape, continui.shape, database_cnci.shape)"
   ]
  }
 ],
 "metadata": {
  "kernelspec": {
   "display_name": "Python 3",
   "language": "python",
   "name": "python3"
  },
  "language_info": {
   "codemirror_mode": {
    "name": "ipython",
    "version": 3
   },
   "file_extension": ".py",
   "mimetype": "text/x-python",
   "name": "python",
   "nbconvert_exporter": "python",
   "pygments_lexer": "ipython3",
   "version": "3.12.3"
  }
 },
 "nbformat": 4,
 "nbformat_minor": 2
}
