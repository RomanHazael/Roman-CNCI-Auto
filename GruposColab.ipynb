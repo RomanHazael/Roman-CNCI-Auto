{
 "cells": [
  {
   "cell_type": "code",
   "execution_count": null,
   "metadata": {},
   "outputs": [],
   "source": [
    "import pandas as pd\n",
    "import numpy as np\n",
    "import pywhatkit as wpp\n",
    "from datetime import datetime \n",
    "\n",
    "\n",
    "#SetOptions para ver los dataframes\n",
    "#pd.set_option('display.max_rows', None)\n",
    "# pd.set_option('display.max_columns', None)\n",
    "# pd.set_option('display.width', None)\n",
    "# pd.set_option('display.max_colwidth',False)"
   ]
  },
  {
   "cell_type": "code",
   "execution_count": null,
   "metadata": {},
   "outputs": [],
   "source": [
    "path = 'Data/'\n",
    "\n",
    "mes = datetime.now().month\n",
    "\n",
    "df_matries = pd.read_excel(path + 'Román - M{:d} Seguimiento.xlsx'.format(mes), sheet_name='Asignación')\n",
    "database = pd.read_excel(path + \"BASE CNCI.xlsx\", sheet_name = 'Activos')\n",
    "#inactivos = pd.read_excel(path + 'Alertas tempranas {:2} de Abril 2024.xlsx'.format(dia), sheet_name='Inactivo')"
   ]
  },
  {
   "cell_type": "code",
   "execution_count": null,
   "metadata": {},
   "outputs": [],
   "source": [
    "#Renombrar el nombre de la columna NOMBRE\n",
    "database.rename(columns = {'NOMBRE                                                                                                                                      ' : 'Nombre'}, inplace= True)\n",
    "\n",
    "#Solo las columnas necesarias\n",
    "database = database[['Nombre', 'MATRICULA', 'CE CANALIZADO', 'CARRERA', 'M4', 'Correo', 'Teléfono', 'Teléfono2', 'Teléfono3', 'CURP', 'Agente ', 'Asesor Académico', 'Asesor Financiero ', 'Asesor Escolar']]\n",
    "\n",
    "#Filtro Cadereyta\n",
    "database = database[database['CE CANALIZADO'] == 'CE CADEREYTA']\n",
    "database.columns"
   ]
  },
  {
   "cell_type": "markdown",
   "metadata": {},
   "source": [
    "#### Inactivos DB"
   ]
  },
  {
   "cell_type": "code",
   "execution_count": null,
   "metadata": {},
   "outputs": [],
   "source": [
    "# Filtro Cadereyta\n",
    "df_matries = df_matries[df_matries['CE'] == 'CE CADEREYTA']\n",
    "\n",
    "#Se pone el uppercase a las matriculas\n",
    "df_matries['MATRICULA'] = df_matries['MATRICULA'].str.upper()\n",
    "df_matries.shape"
   ]
  },
  {
   "cell_type": "markdown",
   "metadata": {},
   "source": [
    "##### Para Alumnos de (tal materia)"
   ]
  },
  {
   "cell_type": "code",
   "execution_count": null,
   "metadata": {},
   "outputs": [],
   "source": [
    "path2 = 'infodata/'\n",
    "link = 'https://chat.whatsapp.com/Env3dGXvLIl7HYXWFUtICE'\n",
    "imagen = 'img/FunMat.png'\n",
    "df_matries = df_matries[df_matries['MATERIA'] == 'Fundamentos de matemáticas']\n",
    "\n",
    "# Inicializar la infodata\n",
    "try:\n",
    "    matric_error = pd.read_csv(path2 + 'matriculas_error.csv')\n",
    "    matric_yacontactadas = pd.read_csv(path2+ 'matriculas_yacontactadas.csv') \n",
    "    \n",
    "    matric_error = matric_error.dropna().values.flatten().tolist()\n",
    "    matric_yacontactadas = matric_yacontactadas.dropna().values.flatten().tolist() \n",
    "except FileNotFoundError:\n",
    "    matric_error = pd.DataFrame()\n",
    "    matric_yacontactadas = pd.DataFrame()"
   ]
  },
  {
   "cell_type": "code",
   "execution_count": null,
   "metadata": {},
   "outputs": [],
   "source": [
    "# Materia del Grupo Colab\n",
    "df_matries = df_matries[df_matries['MATERIA'] == 'Fundamentos de matemáticas']\n",
    "\n",
    "# Merge nuestros df, con el fin de no llamar a dos df en el for.\n",
    "df_matries = pd.merge(df_matries, database[['MATRICULA','Teléfono', 'Teléfono2', 'M4']], on = 'MATRICULA')\n",
    "df_matries.columns"
   ]
  },
  {
   "cell_type": "markdown",
   "metadata": {},
   "source": [
    "#### Ciclo de mensajes"
   ]
  },
  {
   "cell_type": "code",
   "execution_count": null,
   "metadata": {},
   "outputs": [],
   "source": [
    "for index, row in df_matries.iterrows():\n",
    "    alumno = row['NOMBRE']\n",
    "    matricula = str(row['MATRICULA'].upper())\n",
    "    materia = row['MATERIA']\n",
    "    telefono = row['Teléfono']\n",
    "    \n",
    "    if not np.isnan(telefono):\n",
    "        telefono = '+52 ' + str(telefono)\n",
    "    if matricula in matric_error:\n",
    "        if not np.isnan(row['Teléfono2']):\n",
    "            telefono2 = '+52 ' + str(row['Teléfono2'])\n",
    "            telefono = telefono2\n",
    "            print('Matricula con error: {}, Alumno: {}'.format(matricula, alumno))       \n",
    "    \n",
    "\n",
    "\n",
    "    if matricula in matric_yacontactadas:\n",
    "        print('Matricula antes contactada: {}, Alumno: {} '.format(matricula, alumno))    \n",
    "    else:\n",
    "        mensaje = 'Hola, que tal ' + alumno + ' ' + matricula + ', soy _Román Rodríguez_ tu Tutor Presencial del CNCI, me comunico contigo para invitarte al grupo colaborativo de la materia: *'+ materia + '* con la finalidad de que podamos entablar conversación por ahí sobre los temas relacionados y además tener apoyo entre los compañeros. \\n\\nSi gustas a continuación te dejo el enlace: ' + link\n",
    "        print('Enviado a: ', matricula, alumno)\n",
    "        print('\\n')\n",
    "        #wpp.sendwhats_image(telefono, imagen, mensaje, 25, True)\n",
    "        #print(telefono, matricula, alumno)"
   ]
  }
 ],
 "metadata": {
  "kernelspec": {
   "display_name": "Python 3",
   "language": "python",
   "name": "python3"
  },
  "language_info": {
   "codemirror_mode": {
    "name": "ipython",
    "version": 3
   },
   "file_extension": ".py",
   "mimetype": "text/x-python",
   "name": "python",
   "nbconvert_exporter": "python",
   "pygments_lexer": "ipython3",
   "version": "3.12.3"
  }
 },
 "nbformat": 4,
 "nbformat_minor": 2
}
