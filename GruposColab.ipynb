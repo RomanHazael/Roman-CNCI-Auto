{
 "cells": [
  {
   "cell_type": "code",
   "execution_count": 1,
   "metadata": {},
   "outputs": [],
   "source": [
    "import pandas as pd\n",
    "import pywhatkit as wpp\n",
    "from datetime import datetime \n",
    "import time\n",
    "\n",
    "#SetOptions para ver los dataframes\n",
    "#pd.set_option('display.max_rows', None)\n",
    "pd.set_option('display.max_columns', None)\n",
    "pd.set_option('display.width', None)\n",
    "pd.set_option('display.max_colwidth',False)"
   ]
  },
  {
   "cell_type": "code",
   "execution_count": 2,
   "metadata": {},
   "outputs": [],
   "source": [
    "path = 'Data/'\n",
    "dia = datetime.now().day\n",
    "sem = (int(datetime.now().strftime('%U'))) //4 - 1\n",
    "mes = datetime.now().month\n",
    "year = datetime.now().year\n",
    "#print(\"BASE BLENDED NL S{:d}M{:02d} {}.xlsx\".format(sem, mes, year))\n",
    "#print('Román - M{:d} Seguimiento.xlsx'.format(mes))\n",
    "#print('Alertas tempranas {:2} de Abril 2024.xlsx'.format(dia))\n",
    "df_matries = pd.read_excel(path + 'Román - M{:d} Seguimiento.xlsx'.format(mes), sheet_name='Asignación')\n",
    "database = pd.read_excel(path + \"BASE BLENDED NL S{:d}M{:02d} {}.xlsx\".format(sem, mes, year), sheet_name = 'ACTIVOS')\n",
    "#inactivos = pd.read_excel(path + 'Alertas tempranas {:2} de Abril 2024.xlsx'.format(dia), sheet_name='Inactivo')"
   ]
  },
  {
   "cell_type": "code",
   "execution_count": 3,
   "metadata": {},
   "outputs": [
    {
     "data": {
      "text/html": [
       "<div>\n",
       "<style scoped>\n",
       "    .dataframe tbody tr th:only-of-type {\n",
       "        vertical-align: middle;\n",
       "    }\n",
       "\n",
       "    .dataframe tbody tr th {\n",
       "        vertical-align: top;\n",
       "    }\n",
       "\n",
       "    .dataframe thead th {\n",
       "        text-align: right;\n",
       "    }\n",
       "</style>\n",
       "<table border=\"1\" class=\"dataframe\">\n",
       "  <thead>\n",
       "    <tr style=\"text-align: right;\">\n",
       "      <th></th>\n",
       "      <th>NOMBRE</th>\n",
       "      <th>Matricula</th>\n",
       "      <th>CE CANALIZADO</th>\n",
       "      <th>CARRERA</th>\n",
       "      <th>M4</th>\n",
       "      <th>Correo</th>\n",
       "      <th>Teléfono</th>\n",
       "      <th>Teléfono2</th>\n",
       "    </tr>\n",
       "  </thead>\n",
       "  <tbody>\n",
       "    <tr>\n",
       "      <th>1</th>\n",
       "      <td>LAURA OFELIA SOTO CELIS</td>\n",
       "      <td>BNL032757</td>\n",
       "      <td>CE CADEREYTA</td>\n",
       "      <td>CP</td>\n",
       "      <td>2</td>\n",
       "      <td>laurasotocelis89@gmail.com</td>\n",
       "      <td>8282813403</td>\n",
       "      <td>8135710251</td>\n",
       "    </tr>\n",
       "    <tr>\n",
       "      <th>8</th>\n",
       "      <td>MARIA CAROLINA PEREZ RAMOS</td>\n",
       "      <td>UVNL020298</td>\n",
       "      <td>CE CADEREYTA</td>\n",
       "      <td>LAE</td>\n",
       "      <td>3</td>\n",
       "      <td>carolinaramosso06@gmail.com</td>\n",
       "      <td>8132681273</td>\n",
       "      <td>NaN</td>\n",
       "    </tr>\n",
       "    <tr>\n",
       "      <th>10</th>\n",
       "      <td>ADRIANA GARZA ALARDIN</td>\n",
       "      <td>BNL049990</td>\n",
       "      <td>CE CADEREYTA</td>\n",
       "      <td>LCE</td>\n",
       "      <td>3</td>\n",
       "      <td>adriana_03garza@hotmail.com</td>\n",
       "      <td>8281190978</td>\n",
       "      <td>NaN</td>\n",
       "    </tr>\n",
       "    <tr>\n",
       "      <th>32</th>\n",
       "      <td>JESUS TADEO ACEVEDO ACEVEDO</td>\n",
       "      <td>BNL059688</td>\n",
       "      <td>CE CADEREYTA</td>\n",
       "      <td>IIS</td>\n",
       "      <td>3</td>\n",
       "      <td>jt.acevedox2@gmail.com</td>\n",
       "      <td>8281001361</td>\n",
       "      <td>NaN</td>\n",
       "    </tr>\n",
       "    <tr>\n",
       "      <th>81</th>\n",
       "      <td>JORGE ARMANDO VALDES SANCHEZ</td>\n",
       "      <td>BNL065348</td>\n",
       "      <td>CE CADEREYTA</td>\n",
       "      <td>LAE</td>\n",
       "      <td>1</td>\n",
       "      <td>jorgevaldes0329@gmail.com</td>\n",
       "      <td>8135661981</td>\n",
       "      <td>NaN</td>\n",
       "    </tr>\n",
       "    <tr>\n",
       "      <th>...</th>\n",
       "      <td>...</td>\n",
       "      <td>...</td>\n",
       "      <td>...</td>\n",
       "      <td>...</td>\n",
       "      <td>...</td>\n",
       "      <td>...</td>\n",
       "      <td>...</td>\n",
       "      <td>...</td>\n",
       "    </tr>\n",
       "    <tr>\n",
       "      <th>2718</th>\n",
       "      <td>JONATHAN ISRAEL SOTO CORTEZ</td>\n",
       "      <td>BNL104166</td>\n",
       "      <td>CE CADEREYTA</td>\n",
       "      <td>IIS</td>\n",
       "      <td>Inducción M4 2024</td>\n",
       "      <td>jonathanisraelsotocortez7@gmail.com</td>\n",
       "      <td>8180110941</td>\n",
       "      <td>NaN</td>\n",
       "    </tr>\n",
       "    <tr>\n",
       "      <th>2721</th>\n",
       "      <td>LORENZO ANTONIO BOTELLO MARTINEZ</td>\n",
       "      <td>BNL104990</td>\n",
       "      <td>CE CADEREYTA</td>\n",
       "      <td>IGE</td>\n",
       "      <td>Inducción M4 2024</td>\n",
       "      <td>lastmasmi23@gmail.com</td>\n",
       "      <td>8128669065</td>\n",
       "      <td>NaN</td>\n",
       "    </tr>\n",
       "    <tr>\n",
       "      <th>2740</th>\n",
       "      <td>ULISES CALTE AGUILAR</td>\n",
       "      <td>BNL104543</td>\n",
       "      <td>CE CADEREYTA</td>\n",
       "      <td>IIS</td>\n",
       "      <td>Inducción M4 2024</td>\n",
       "      <td>calteaguilaru@gmail.com</td>\n",
       "      <td>2281967311</td>\n",
       "      <td>8123618439</td>\n",
       "    </tr>\n",
       "    <tr>\n",
       "      <th>2768</th>\n",
       "      <td>LUIS ELIUD SALINAS SOTO</td>\n",
       "      <td>BNL105089</td>\n",
       "      <td>CE CADEREYTA</td>\n",
       "      <td>LAE</td>\n",
       "      <td>Inducción M4 2024</td>\n",
       "      <td>luisless22@gmail.com</td>\n",
       "      <td>8127446548</td>\n",
       "      <td>8116108199</td>\n",
       "    </tr>\n",
       "    <tr>\n",
       "      <th>2822</th>\n",
       "      <td>JORGE LARA ROMERO</td>\n",
       "      <td>BNL052080</td>\n",
       "      <td>CE CADEREYTA</td>\n",
       "      <td>BACH</td>\n",
       "      <td>4</td>\n",
       "      <td>kookyelara@gmail.com</td>\n",
       "      <td>8124011187</td>\n",
       "      <td>8127256924</td>\n",
       "    </tr>\n",
       "  </tbody>\n",
       "</table>\n",
       "<p>196 rows × 8 columns</p>\n",
       "</div>"
      ],
      "text/plain": [
       "                                NOMBRE   Matricula CE CANALIZADO CARRERA  \\\n",
       "1     LAURA OFELIA SOTO CELIS           BNL032757   CE CADEREYTA  CP       \n",
       "8     MARIA CAROLINA PEREZ RAMOS        UVNL020298  CE CADEREYTA  LAE      \n",
       "10    ADRIANA GARZA ALARDIN             BNL049990   CE CADEREYTA  LCE      \n",
       "32    JESUS TADEO ACEVEDO ACEVEDO       BNL059688   CE CADEREYTA  IIS      \n",
       "81    JORGE ARMANDO VALDES SANCHEZ      BNL065348   CE CADEREYTA  LAE      \n",
       "...                            ...            ...            ...  ...      \n",
       "2718  JONATHAN ISRAEL SOTO CORTEZ       BNL104166   CE CADEREYTA  IIS      \n",
       "2721  LORENZO ANTONIO BOTELLO MARTINEZ  BNL104990   CE CADEREYTA  IGE      \n",
       "2740  ULISES CALTE AGUILAR              BNL104543   CE CADEREYTA  IIS      \n",
       "2768  LUIS ELIUD SALINAS SOTO           BNL105089   CE CADEREYTA  LAE      \n",
       "2822  JORGE LARA ROMERO                 BNL052080   CE CADEREYTA  BACH     \n",
       "\n",
       "                     M4                               Correo    Teléfono  \\\n",
       "1     2                  laurasotocelis89@gmail.com           8282813403   \n",
       "8     3                  carolinaramosso06@gmail.com          8132681273   \n",
       "10    3                  adriana_03garza@hotmail.com          8281190978   \n",
       "32    3                  jt.acevedox2@gmail.com               8281001361   \n",
       "81    1                  jorgevaldes0329@gmail.com            8135661981   \n",
       "...  ..                                        ...                   ...   \n",
       "2718  Inducción M4 2024  jonathanisraelsotocortez7@gmail.com  8180110941   \n",
       "2721  Inducción M4 2024  lastmasmi23@gmail.com                8128669065   \n",
       "2740  Inducción M4 2024  calteaguilaru@gmail.com              2281967311   \n",
       "2768  Inducción M4 2024  luisless22@gmail.com                 8127446548   \n",
       "2822  4                  kookyelara@gmail.com                 8124011187   \n",
       "\n",
       "       Teléfono2  \n",
       "1     8135710251  \n",
       "8     NaN         \n",
       "10    NaN         \n",
       "32    NaN         \n",
       "81    NaN         \n",
       "...   ...         \n",
       "2718  NaN         \n",
       "2721  NaN         \n",
       "2740  8123618439  \n",
       "2768  8116108199  \n",
       "2822  8127256924  \n",
       "\n",
       "[196 rows x 8 columns]"
      ]
     },
     "execution_count": 3,
     "metadata": {},
     "output_type": "execute_result"
    }
   ],
   "source": [
    "#Se eliminan columnas hasta la columna Teléfono 2.\n",
    "columna_limite = \"Teléfono2\"\n",
    "columnas_conservadas = database.columns[:database.columns.get_loc(columna_limite) + 1]\n",
    "database = database[columnas_conservadas] \n",
    "\n",
    "#Se elimina USUARIO BB,PASSWORD PORTAL ALUMNO, PROYECTO, MODELO EDUCATIVO, SERVICIO, Modalidad, Monto, Correo 2\n",
    "database.drop(columns = [\"USUARIO BB\",\"PASSWORD PORTAL \\nALUMNO\", 'PROYECTO','MODELO EDUCATIVO', 'Fecha', 'SERVICIO', 'Fecha de inicio','Modalidad', 'Monto', 'Correo 2'], inplace=True)\n",
    "\n",
    "#Renombrar el nombre de la columna NOMBRE\n",
    "database.rename(columns = {'NOMBRE                                                                                                                                      ' : \"NOMBRE\"}, inplace= True)\n",
    "database.rename(columns = {'MATRICULA' : \"Matricula\"}, inplace= True)\n",
    "#Cambia el formato de las columnas TELÉFONO y CELULAR\n",
    "#database_final[\"TELÉFONO\"] = database_final[\"TELÉFONO\"].astype(str).apply(lambda x: \"{:.0f}\".format(float(x)))\n",
    "#database_final[\"CELULAR\"] = database_final[\"CELULAR\"].astype(str).apply(lambda x: \"{:.0f}\".format(float(x)))\n",
    "database = database[database['CE CANALIZADO'] == 'CE CADEREYTA']\n",
    "database"
   ]
  },
  {
   "cell_type": "markdown",
   "metadata": {},
   "source": [
    "### Para eliminar columnas del de ALERTAS TEMPRANAS "
   ]
  },
  {
   "cell_type": "code",
   "execution_count": 4,
   "metadata": {},
   "outputs": [],
   "source": [
    "#eliminar_columnas = [col for col in df_inactivos.columns if col.startswith('Registro')]\n",
    "#df_inactivos.drop(columns = eliminar_columnas, inplace=True)\n",
    "#df_inactivos"
   ]
  },
  {
   "cell_type": "markdown",
   "metadata": {},
   "source": [
    "### Filtros a los Inactivos."
   ]
  },
  {
   "cell_type": "code",
   "execution_count": 5,
   "metadata": {},
   "outputs": [
    {
     "data": {
      "text/plain": [
       "(320, 10)"
      ]
     },
     "execution_count": 5,
     "metadata": {},
     "output_type": "execute_result"
    }
   ],
   "source": [
    "df_matries = df_matries[df_matries['CE'] == 'CE CADEREYTA']\n",
    "df_matries.shape"
   ]
  },
  {
   "cell_type": "markdown",
   "metadata": {},
   "source": [
    "##### Para Alumnos de (tal materia)"
   ]
  },
  {
   "cell_type": "code",
   "execution_count": 6,
   "metadata": {},
   "outputs": [],
   "source": [
    "link = 'https://chat.whatsapp.com/Env3dGXvLIl7HYXWFUtICE'\n",
    "imagen = 'img/FunMat.png'\n",
    "\n",
    "df_matries = df_matries[df_matries['MATERIA'] == 'Fundamentos de matemáticas']"
   ]
  },
  {
   "cell_type": "markdown",
   "metadata": {},
   "source": [
    "Alumno de baja lo eliminamos"
   ]
  },
  {
   "cell_type": "code",
   "execution_count": 7,
   "metadata": {},
   "outputs": [],
   "source": [
    "#df_matries = df_matries.drop(df_matries[df_matries['MATRICULA'] == 'bnl103337'].index)\n",
    "matric_num_equiv = ['bnl100961','bnl103801', 'bnl103876']"
   ]
  },
  {
   "cell_type": "markdown",
   "metadata": {},
   "source": [
    "### Ciclo de Enviado"
   ]
  },
  {
   "cell_type": "code",
   "execution_count": 8,
   "metadata": {},
   "outputs": [],
   "source": [
    "for index, row in df_matries.iterrows():\n",
    "    alumno = row['NOMBRE']\n",
    "    matricula = str(row['MATRICULA'].upper())\n",
    "    materia = row['MATERIA']\n",
    "    telefono = database.loc[database['Matricula'] == matricula, 'Teléfono'].values\n",
    "    telefono2 = database.loc[database['Matricula'] == matricula, 'Teléfono2'].values\n",
    "    \n",
    "    if len(telefono) > 0:\n",
    "        if matricula in (matric_num_equiv):\n",
    "            telefono = telefono2\n",
    "        telefono = '+52 ' + str(int(telefono[0]))        \n",
    "    \n",
    "    mensaje = 'Hola, que tal ' + alumno + ' ' + matricula + ', soy _Román Rodríguez_ tu Tutor Presencial del CNCI, me comunico contigo para invitarte al grupo colaborativo de la materia: *'+ materia + '* con la finalidad de que podamos entablar conversación por ahí sobre los temas relacionados y además tener apoyo entre los compañeros. \\n\\nSi gustas a continuación te dejo el enlace: ' + link\n",
    "    hora = datetime.now().strftime('%H:%M')\n",
    "\n",
    "    #print(matricula,'17/04',' 16:00 Alumno se une al grupo colaborativo de Fundamentos de Matemáticas.')\n",
    "    #print(matricula,'17/04',' 16:00 Alumno se le notifica sobre el grupo colaborativo de Fundamentos de Matemáticas.')\n",
    "    #print('\\n')\n",
    "    #print(telefono)\n",
    "    #wpp.sendwhats_image(telefono, imagen, mensaje, 20, True)\n",
    "    #time.sleep(60)"
   ]
  }
 ],
 "metadata": {
  "kernelspec": {
   "display_name": "Python 3",
   "language": "python",
   "name": "python3"
  },
  "language_info": {
   "codemirror_mode": {
    "name": "ipython",
    "version": 3
   },
   "file_extension": ".py",
   "mimetype": "text/x-python",
   "name": "python",
   "nbconvert_exporter": "python",
   "pygments_lexer": "ipython3",
   "version": "3.12.3"
  }
 },
 "nbformat": 4,
 "nbformat_minor": 2
}
