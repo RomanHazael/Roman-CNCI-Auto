{
 "cells": [
  {
   "cell_type": "code",
   "execution_count": null,
   "metadata": {},
   "outputs": [],
   "source": [
    "import pandas as pd\n",
    "import pywhatkit as wpp\n",
    "from datetime import datetime, timedelta\n",
    "\n",
    "#SetOptions para ver los dataframes\n",
    "# pd.set_option('display.max_rows', None)\n",
    "# pd.set_option('display.max_columns', None)\n",
    "# pd.set_option('display.width', None)\n",
    "# pd.set_option('display.max_colwidth',False)"
   ]
  },
  {
   "cell_type": "code",
   "execution_count": null,
   "metadata": {},
   "outputs": [],
   "source": [
    "def dias_alertas():\n",
    "    hoy = datetime.now()\n",
    "    dias_semana = {'lunes': 0, 'martes': 1, 'miércoles': 2, 'jueves': 3, 'viernes': 4, 'sábado': 5, 'domingo': 6}\n",
    "\n",
    "    # Encuentra el último martes y jueves\n",
    "    last_tuesday = hoy - timedelta(days=(hoy.weekday() - dias_semana['martes']) % 7)\n",
    "    last_thursday = hoy - timedelta(days=(hoy.weekday() - dias_semana['jueves']) % 7)\n",
    "\n",
    "    # Devuelve la fecha más reciente entre el último martes y jueves\n",
    "    return max(last_tuesday, last_thursday).strftime('%d')"
   ]
  },
  {
   "cell_type": "code",
   "execution_count": null,
   "metadata": {},
   "outputs": [],
   "source": [
    "def clean_alertas(df):\n",
    "    # Adios a los registros. Filtro solo Cadereyta\n",
    "    df = df.drop(columns=['Registro 1', 'Registro 2', 'Registro 3', 'Registro 4', 'Registro 5', 'Subproyecto'])\n",
    "    df = df[df['Centro Enlace'].isin(['CADEREYTA', 'CE CADEREYTA', 'CC CADEREYTA'])]\n",
    "    \n",
    "    # Juntar las materias\n",
    "    # inactivos_agrup = df.groupby([\"Matricula\"])[\"Grupo\"].agg(lambda x: \", \".join(x)).reset_index().rename(columns={'Grupo':'Materias'})\n",
    "    df['Materias'] = df.groupby([\"Matricula\", 'Estatus'])[\"Grupo\"].transform(lambda x: ', '.join(x)) #.agg(lambda x: \", \".join(x)).reset_index().rename(columns={'Grupo':'Materias'})\n",
    "    \n",
    "    # df.shape #Materias Agrupadas en la última colunmna\n",
    "    \n",
    "    # Reacomodo de las materias\n",
    "    df[\"Grupo\"]  = df[\"Materias\"]\n",
    "    df.drop(columns = [\"Materias\", 'Modelo'], inplace=True)\n",
    "    df = df.drop_duplicates(subset= ['Nombre', 'Estatus'])\n",
    "    df.shape #sin duplicados \n",
    "    return df"
   ]
  },
  {
   "cell_type": "code",
   "execution_count": null,
   "metadata": {},
   "outputs": [],
   "source": [
    "def clean_database(db):\n",
    "    #Renombrar el nombre de la columna NOMBRE\n",
    "    db.rename(columns = {'NOMBRE                                                                                                                                      ' : \"NOMBRE\", 'MATRICULA' : \"Matricula\"}, inplace= True)\n",
    "\n",
    "    # Columnas importantes\n",
    "    db = db[['NOMBRE', 'Matricula', 'CE CANALIZADO', 'CARRERA', 'M4', 'Correo', 'Teléfono', 'Teléfono2', 'Teléfono3', 'CURP', 'Agente ', 'Asesor Académico', 'Asesor Financiero ', 'Asesor Escolar']]\n",
    "\n",
    "    # Filtro Cadereyta\n",
    "    # db = db[db['CE CANALIZADO'] == 'CE CADEREYTA']\n",
    "    cade = ('CADEREYTA', 'CE CADEREYTA', 'CC CADEREYTA')\n",
    "    db = db[db['CE CANALIZADO'].str.contains('|'.join(cade), case = False, na = False)]\n",
    "    return db"
   ]
  },
  {
   "cell_type": "code",
   "execution_count": null,
   "metadata": {},
   "outputs": [],
   "source": [
    "def filtro_estatus(df):\n",
    "    option = int(input('1.- Inactivos \\n2.- Ausentes \\n3.- Regular \\n 9.- Out'))\n",
    "\n",
    "    if option == 1:\n",
    "        # Inactivos\n",
    "        option = ('Inactivo',)\n",
    "    elif option == 2:\n",
    "        # Ausente - Posible Reprobado\n",
    "        option = ('Ausente', 'Posible Reprobado')\n",
    "    elif option == 3:\n",
    "        # Regular\n",
    "        option = ('Regular',)\n",
    "    return df[df['Estatus'].isin(option)]"
   ]
  },
  {
   "cell_type": "code",
   "execution_count": null,
   "metadata": {},
   "outputs": [],
   "source": [
    "path = 'Data/'\n",
    "\n",
    "try:\n",
    "    database = pd.read_csv(path + \"BASE CNCI.csv\") \n",
    "except FileNotFoundError or FileExistsError: \n",
    "    %run DatabaseCNCI.ipynb\n",
    "    print('Database CNCI.csv Created')\n",
    "    database = pd.read_csv(path + \"BASE CNCI.csv\")\n",
    "    \n",
    "try: \n",
    "    alertas = pd.read_csv(path + \"Alertas.csv\", index_col= 0)\n",
    "except FileNotFoundError or FileExistsError:\n",
    "    alertas = pd.read_excel(path + 'Main/Alertas tempranas 30 de Abril 2024.xlsx', sheet_name='General')\n",
    "    clean_alertas(alertas).to_csv(path + 'Alertas.csv')\n",
    "    print('Alertas csv Created')\n",
    "    alertas = pd.read_csv(path + \"Alertas.csv\", index_col= 0)\n"
   ]
  },
  {
   "cell_type": "code",
   "execution_count": null,
   "metadata": {},
   "outputs": [],
   "source": [
    "imagen = 'img/Cerro.jpeg'\n",
    "mencion_stat = ''\n",
    "path2 = 'infodata/'\n",
    "\n",
    "#Inicializar la infodata\n",
    "try:\n",
    "    matric_error = pd.read_csv(path2 + 'matriculas_error.csv')\n",
    "    matric_yacontactadas = pd.read_csv(path2+ 'matriculas_yacontactadas.csv') \n",
    "    \n",
    "    matric_error = matric_error.dropna().values.flatten().tolist()\n",
    "    matric_yacontactadas = matric_yacontactadas.dropna().values.flatten().tolist() \n",
    "except FileNotFoundError:\n",
    "    matric_error = pd.DataFrame()\n",
    "    matric_yacontactadas = pd.DataFrame()"
   ]
  },
  {
   "cell_type": "code",
   "execution_count": null,
   "metadata": {},
   "outputs": [],
   "source": [
    "database = clean_database(database)\n",
    "alertas = filtro_estatus(alertas)"
   ]
  },
  {
   "cell_type": "code",
   "execution_count": null,
   "metadata": {},
   "outputs": [],
   "source": [
    "# Merge nuestros df, con el fin de no llamar a dos df en el for.\n",
    "alertas_merged = pd.merge(alertas, database[['Matricula','Teléfono', 'Teléfono2']] , on = 'Matricula')"
   ]
  },
  {
   "cell_type": "markdown",
   "metadata": {},
   "source": [
    "Ciclo de mensajes"
   ]
  },
  {
   "cell_type": "code",
   "execution_count": null,
   "metadata": {},
   "outputs": [],
   "source": [
    "for index, row in alertas_merged.iterrows():\n",
    "    alumno = row['Nombre']\n",
    "    matricula = row['Matricula']\n",
    "    materias = row['Grupo']\n",
    "    telefono = row['Teléfono']\n",
    "    status = row['Estatus']\n",
    "    print(telefono)\n",
    "    if not pd.isna(telefono):\n",
    "        telefono = '+52 ' + str(telefono)\n",
    "    if matricula in matric_error:\n",
    "        if not pd.isna(row['Teléfono2']):\n",
    "            telefono2 = '+52 ' + str(row['Teléfono2'])\n",
    "            telefono = telefono2\n",
    "            print('Matricula con error: {}, Alumno: {}'.format(matricula, alumno))\n",
    "            \n",
    "    if status == ('Inactivo'):\n",
    "        mencion_stat = 'veo que aún no has ingresado a tus materias: *' + materias +'*'\n",
    "    elif status == ('Ausente'):\n",
    "        mencion_stat = 'veo que ya has ingresado a tus materias: *'+ materias +'* \\n ¿Has logrado avanzar con tus tareas?'\n",
    "    elif status == ('Posible Reprobado'):\n",
    "        mencion_stat == '¿Cómo vas con tus tareas?'\n",
    "        \n",
    "    if matricula in matric_yacontactadas:\n",
    "        print('Matricula antes contactada: {}, Alumno: {} '.format(matricula, alumno))    \n",
    "    else:\n",
    "        mensaje = 'Hola, que tal ' + alumno + ' ' + matricula + ', soy _Román Rodríguez_ Tutor Presencial del CNCI, me comunico contigo ya que ' + mencion_stat + ' ¿Hay algo en lo que pueda apoyarte?'\n",
    "        print('Enviado a: ', matricula, alumno, '\\n')\n",
    "        #wpp.sendwhats_image(telefono, imagen, mensaje, 25, True)\n",
    "        #print(telefono, matricula, alumno)"
   ]
  }
 ],
 "metadata": {
  "kernelspec": {
   "display_name": "Python 3",
   "language": "python",
   "name": "python3"
  },
  "language_info": {
   "codemirror_mode": {
    "name": "ipython",
    "version": 3
   },
   "file_extension": ".py",
   "mimetype": "text/x-python",
   "name": "python",
   "nbconvert_exporter": "python",
   "pygments_lexer": "ipython3",
   "version": "3.12.3"
  }
 },
 "nbformat": 4,
 "nbformat_minor": 2
}
