{
 "cells": [
  {
   "cell_type": "code",
   "execution_count": null,
   "metadata": {},
   "outputs": [],
   "source": [
    "import pandas as pd\n",
    "import pywhatkit as wpp\n",
    "from datetime import datetime, timedelta\n",
    "import dataframe_image as dfi\n",
    "import os\n",
    "\n",
    "#SetOptions para ver los dataframes\n",
    "# pd.set_option('display.max_rows', None)\n",
    "# pd.set_option('display.max_columns', None)\n",
    "# pd.set_option('display.width', None)\n",
    "# pd.set_option('display.max_colwidth',False)"
   ]
  },
  {
   "cell_type": "code",
   "execution_count": null,
   "metadata": {},
   "outputs": [],
   "source": [
    "def dias_alertas():\n",
    "    hoy = datetime.now()\n",
    "    dias_semana = {'lunes': 0, 'martes': 1, 'miércoles': 2, 'jueves': 3, 'viernes': 4, 'sábado': 5, 'domingo': 6}\n",
    "\n",
    "    # Encuentra el último martes y jueves\n",
    "    last_tuesday = hoy - timedelta(days=(hoy.weekday() - dias_semana['martes']) % 7)\n",
    "    last_thursday = hoy - timedelta(days=(hoy.weekday() - dias_semana['jueves']) % 7)\n",
    "    \n",
    "    # Devuelve la fecha más reciente entre el último martes y jueves\n",
    "    return max(last_tuesday, last_thursday).strftime('%d')"
   ]
  },
  {
   "cell_type": "code",
   "execution_count": null,
   "metadata": {},
   "outputs": [],
   "source": [
    "def clean_alertas(df):\n",
    "    # Adios a los registros. Filtro solo Cadereyta\n",
    "    # df = df.drop(columns=['Registro 1', 'Registro 2', 'Registro 3', 'Registro 4', 'Registro 5', 'Subproyecto'])\n",
    "    df = df[df['Centro Enlace'].isin(['CADEREYTA', 'CE CADEREYTA', 'CC CADEREYTA'])]\n",
    "    \n",
    "    # Juntar las materias\n",
    "    # inactivos_agrup = df.groupby([\"Matricula\"])[\"Grupo\"].agg(lambda x: \", \".join(x)).reset_index().rename(columns={'Grupo':'Materias'})\n",
    "    df['Materias'] = df.groupby([\"Matricula\", 'Estatus'])[\"Grupo\"].transform(lambda x: ', '.join(x)) #.agg(lambda x: \", \".join(x)).reset_index().rename(columns={'Grupo':'Materias'})\n",
    "    \n",
    "    # df.shape #Materias Agrupadas en la última colunmna\n",
    "    \n",
    "    # Reacomodo de las materias\n",
    "    df[\"Grupo\"]  = df[\"Materias\"]\n",
    "    df.drop(columns = [\"Materias\", 'Modelo'], inplace=True)\n",
    "    df = df.drop_duplicates(subset= ['Nombre', 'Estatus'])\n",
    "    df.shape #sin duplicados \n",
    "    return df"
   ]
  },
  {
   "cell_type": "code",
   "execution_count": null,
   "metadata": {},
   "outputs": [],
   "source": [
    "def clean_database(db):\n",
    "    #Renombrar el nombre de la columna NOMBRE\n",
    "    db.rename(columns = {'NOMBRE                                                                                                                                      ' : \"NOMBRE\", 'MATRICULA' : \"Matricula\"}, inplace= True)\n",
    "\n",
    "    # Columnas importantes\n",
    "    db = db[['NOMBRE', 'Matricula', 'CE CANALIZADO', 'CARRERA', 'MODELO EDUCATIVO', f'M{datetime.now().month}', 'Correo', 'Teléfono', 'Teléfono2', 'Teléfono3', 'CURP', 'Agente ', 'Asesor Académico', 'Asesor Financiero ', 'Asesor Escolar']]\n",
    "\n",
    "    # Filtro Cadereyta\n",
    "    # db = db[db['CE CANALIZADO'] == 'CE CADEREYTA']\n",
    "    cade = ('CADEREYTA', 'CE CADEREYTA', 'CC CADEREYTA')\n",
    "    db = db[db['CE CANALIZADO'].str.contains('|'.join(cade), case = False, na = False)]\n",
    "    return db"
   ]
  },
  {
   "cell_type": "code",
   "execution_count": null,
   "metadata": {},
   "outputs": [],
   "source": [
    "def filtro_estatus(df):\n",
    "    option = int(input('1.- Inactivos \\n2.- Ausentes \\n3.- Regular \\n 9.- Out'))\n",
    "\n",
    "    if option == 1:\n",
    "        # Inactivos\n",
    "        option = ('Inactivo',)\n",
    "    elif option == 2:\n",
    "        # Ausente - Posible Reprobado\n",
    "        option = ('Ausente', 'Posible Reprobado')\n",
    "    elif option == 3:\n",
    "        # Regular\n",
    "        option = ('Regular',)\n",
    "    return df[df['Estatus'].isin(option)]"
   ]
  },
  {
   "cell_type": "code",
   "execution_count": null,
   "metadata": {},
   "outputs": [],
   "source": [
    "def save_infodata(df, long):\n",
    "    df2 = pd.DataFrame(df, columns=['Matricula'])\n",
    "    if len(df) == 0:\n",
    "        df2.index = df2.index+1\n",
    "        df2.loc[0] = datetime.now().strftime('%d/%m/%Y')\n",
    "        df2 = df2.sort_index()\n",
    "    else:\n",
    "        df2.iloc[long+1:] = df2.iloc[long:-1].values\n",
    "        df2.loc[long] = datetime.now().strftime('%d/%m/%Y')\n",
    "\n",
    "    df2.to_csv('infodata/' + 'alertas_contactados.csv', index=False)"
   ]
  },
  {
   "cell_type": "code",
   "execution_count": null,
   "metadata": {},
   "outputs": [],
   "source": [
    "def send_df(df, value):\n",
    "    pd.set_option('display.max_colwidth',False)\n",
    "    pd.set_option('display.width', 1000)\n",
    "    route = 'Alertas{}.png'.format(value)\n",
    "    \n",
    "    # Filtrar filas donde cualquiera de las columnas contenga el valor\n",
    "    df_final = df[df.apply(lambda row: row.astype(str).str.contains(value, case=False).any(), axis=1)]\n",
    "    \n",
    "    styled_df = df_final.style.set_properties(**{\n",
    "    'white-space': 'pre-wrap',  # Permite el ajuste del texto\n",
    "    'width': '200px',           # Ajustar el ancho de las columnas\n",
    "    'max-width': '200px'\n",
    "})\n",
    "    display(df_final)\n",
    "    if int(input('Enviar: 1')) == True:\n",
    "        dfi.export(styled_df,route)\n",
    "        with open('Infodata/IDGroup.txt', 'r') as f:\n",
    "            for line in f:\n",
    "                id_group = line.strip().split()[0] \n",
    "        wpp.sendwhats_image( id_group, route, route, tab_close=True)\n",
    "        print('Guardada') if int(input('Guardar : 1')) == True else  os.remove(route)"
   ]
  },
  {
   "cell_type": "markdown",
   "metadata": {},
   "source": [
    "Lectura de Excel"
   ]
  },
  {
   "cell_type": "code",
   "execution_count": null,
   "metadata": {},
   "outputs": [],
   "source": [
    "path = 'Data/'\n",
    "\n",
    "try:\n",
    "    database = pd.read_csv(path + \"BASE CNCI.csv\") \n",
    "except FileNotFoundError or FileExistsError: \n",
    "    %run DatabaseCNCI.ipynb\n",
    "    print('Database CNCI.csv Created')\n",
    "    database = pd.read_csv(path + \"BASE CNCI.csv\")\n",
    "    \n",
    "try: \n",
    "    alertas = pd.read_csv(path + \"Alertas.csv\", index_col= 0)\n",
    "except FileNotFoundError or FileExistsError:\n",
    "    dict_mes={1: 'Enero', 2: 'Febrero', 3: 'Marzo', 4: 'Abril', 5: 'Mayo', 6: 'Junio', 7: 'Julio', 8: 'Agosto', 9: 'Septiembre', 10: 'Octubre', 11: 'Noviembre', 12: 'Diciembre'}\n",
    "    alertas = pd.read_excel(path + 'Main/Alertas tempranas {} de {} 2024.xlsx'.format(dias_alertas(), dict_mes[datetime.now().month]), sheet_name='General')\n",
    "    clean_alertas(alertas).to_csv(path + 'Alertas.csv')\n",
    "    print('Alertas csv Created')\n",
    "    alertas = pd.read_csv(path + \"Alertas.csv\", index_col= 0)"
   ]
  },
  {
   "cell_type": "code",
   "execution_count": null,
   "metadata": {},
   "outputs": [],
   "source": [
    "database = clean_database(database)\n",
    "alertas = filtro_estatus(alertas)"
   ]
  },
  {
   "cell_type": "code",
   "execution_count": null,
   "metadata": {},
   "outputs": [],
   "source": [
    "# Merge nuestros df, con el fin de no llamar a dos df en el for.\n",
    "alertas_merged = pd.merge(alertas, database[['Matricula', 'MODELO EDUCATIVO','Teléfono', 'Teléfono2',]] , on = 'Matricula')"
   ]
  },
  {
   "cell_type": "markdown",
   "metadata": {},
   "source": [
    "Archivos de utilidad"
   ]
  },
  {
   "cell_type": "code",
   "execution_count": null,
   "metadata": {},
   "outputs": [],
   "source": [
    "imagen = 'img/Perseverancia.jpeg'\n",
    "mencion_stat = ''\n",
    "path2 = 'infodata/'\n",
    "\n",
    "#Inicializar la infodata\n",
    "matric_error = pd.read_csv(path2 + 'matriculas_error.csv')\n",
    "matric_error = matric_error.dropna().values.flatten().tolist()\n",
    "try:    \n",
    "    matric_yacontactadas = pd.read_csv(path2+ 'alertas_contactados.csv') \n",
    "    matric_yacontactadas = matric_yacontactadas.dropna().values.flatten().tolist() \n",
    "except FileNotFoundError:\n",
    "    matric_yacontactadas = list()\n",
    "long = len(matric_yacontactadas)"
   ]
  },
  {
   "cell_type": "markdown",
   "metadata": {},
   "source": [
    "Ciclo de mensajes"
   ]
  },
  {
   "cell_type": "code",
   "execution_count": null,
   "metadata": {},
   "outputs": [],
   "source": [
    "for index, row in alertas_merged.iterrows():\n",
    "    alumno = row['Nombre']\n",
    "    matricula = row['Matricula']\n",
    "    materias = row['Grupo']\n",
    "    telefono = row['Teléfono']\n",
    "    status = row['Estatus']\n",
    "    mod = row['Modulo']\n",
    "    modelo = row['MODELO EDUCATIVO']\n",
    "\n",
    "    if not pd.isna(telefono):\n",
    "        telefono = '+52 ' + str(telefono)\n",
    "    if matricula in matric_error:\n",
    "        if not pd.isna(row['Teléfono2']):\n",
    "            telefono2 = '+52 ' + str(row['Teléfono2'])\n",
    "            telefono = telefono2\n",
    "            print('Matricula con error: {}, Alumno: {}'.format(matricula, alumno))\n",
    "    if (mod == 4 or mod == 0) and modelo in ['FLEX', 'LIVE']:\n",
    "        mencion_stat = 'estas en tu *Módulo de Descanso*, donde podrás descansar en caso de no tener Extraordinarios, solamente no olvides tu materia de {}'.format(materias)\n",
    "    else:\n",
    "        if status == ('Inactivo'):\n",
    "            mencion_stat = '*{}*. Ya que veo que no has ingresado hace tiempo. \\nA qué se debe esto? Has tenido algún problema con la _Plataforma Blackboard_? \\nEn caso de que no hayas entregado tu *{}*, recuerda que aún la puedes entregar solo que con una calificación menor.'.format(materias, 'Actividad 1')\n",
    "        elif status == ('Ausente'):\n",
    "            mencion_stat = '*{}* Cómo te está yendo con las actividades? \\nAdemás mencionarte que en caso de que no hayas entregado tu *{}* aún la puedes entregar solo que con una calificación menor. \\nHas tenido algún problema con la _Plataforma Blackboard_?'.format(materias, 'Actividad 1')\n",
    "        elif status == ('Posible Reprobado'):\n",
    "            mencion_stat = '*{}* Cómo te está yendo con las actividades? \\nAdemás mencionarte que en caso de que no hayas entregado tu *{}* aún la puedes entregar solo que con una calificación menor. \\nPor último quería preguntarte si has tenido algún problema con la Plataforma?'.format(materias, 'Actividad 1')\n",
    "        elif status == ('Regular'):\n",
    "            mencion_stat = '*{}*. Llevandola(s) de una manera muy activa. Mencionar que tu Calificación #1 ya debe de estar en _Blackboard_. Has logrado visualizarla?\\n\\nMuchas felicidades y sigue así, quería preguntarte cómo te organizas para ir al corriente con las Actividades? Trabajas o solo Estudias?'.format(materias)\n",
    "        \n",
    "        \n",
    "    if matricula in matric_yacontactadas:\n",
    "        print('Matricula antes contactada: {}, Alumno: {} '.format(matricula, alumno))\n",
    "    else:\n",
    "        mensaje = 'Buen día para tí {} {}, te mando este mensaje para hablar sobre tus materias {} \\n\\nRecuerda que en caso de dudas puedes contactarme para así apoyarte, ten un buen día, quedo al pendiente de tu respuesta \\n\\n_Román Rodríguez Tutor Presencial_.'.format(alumno, matricula, mencion_stat)\n",
    "        print('Enviado a: {} | {}'.format(matricula, alumno))\n",
    "        print('--------------------')\n",
    "        matric_yacontactadas.append(matricula)\n",
    "        wpp.sendwhats_image(telefono, imagen, mensaje, 15, True)\n",
    "\n",
    "save_infodata(matric_yacontactadas, long)"
   ]
  },
  {
   "cell_type": "code",
   "execution_count": null,
   "metadata": {},
   "outputs": [],
   "source": [
    "def nomatch_mat():\n",
    "    matching_rows = alertas[~alertas['Matricula'].isin(database['Matricula'])]\n",
    "    return matching_rows\n",
    "nomatch_mat()"
   ]
  },
  {
   "cell_type": "code",
   "execution_count": null,
   "metadata": {},
   "outputs": [],
   "source": [
    "from PIL import Image\n",
    "import matplotlib.pyplot as plt\n",
    "\n",
    "# Lee la imagen\n",
    "# print(alumno, resultado)\n",
    "figure = Image.open(imagen)\n",
    "# Muestra la imagen\n",
    "plt.imshow(figure)\n",
    "plt.axis('off')  # Desactiva los ejes\n",
    "plt.show()"
   ]
  }
 ],
 "metadata": {
  "kernelspec": {
   "display_name": "Python 3",
   "language": "python",
   "name": "python3"
  },
  "language_info": {
   "codemirror_mode": {
    "name": "ipython",
    "version": 3
   },
   "file_extension": ".py",
   "mimetype": "text/x-python",
   "name": "python",
   "nbconvert_exporter": "python",
   "pygments_lexer": "ipython3",
   "version": "3.12.3"
  }
 },
 "nbformat": 4,
 "nbformat_minor": 2
}
