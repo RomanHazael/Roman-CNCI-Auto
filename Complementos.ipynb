{
 "cells": [
  {
   "cell_type": "code",
   "execution_count": null,
   "metadata": {},
   "outputs": [],
   "source": [
    "import pandas as pd\n",
    "from datetime import datetime\n",
    "import pywhatkit as wpp"
   ]
  },
  {
   "cell_type": "code",
   "execution_count": null,
   "metadata": {},
   "outputs": [],
   "source": [
    "def clean_asig(df):\n",
    "    # Solo Colunnas necesarias. Filtro solo Cadereyta\n",
    "    \n",
    "    df = df[['MATRICULA','NOMBRE', 'CE', 'MATERIA']]\n",
    "    \n",
    "    # Matriculas en MAYUS\n",
    "    df['MATRICULA'] = df['MATRICULA'].str.upper()\n",
    "    \n",
    "    cade = ('CADEREYTA', 'CE CADEREYTA', 'CC CADEREYTA')\n",
    "    df = df[df['CE'].str.contains('|'.join(cade), case = False, na = False)]\n",
    "    return df"
   ]
  },
  {
   "cell_type": "code",
   "execution_count": null,
   "metadata": {},
   "outputs": [],
   "source": [
    "def colab():\n",
    "    print('Grupos Colaborativos')\n",
    "    grupo = str(input('Grupo ?'))\n",
    "    # link = str(input('Link ?'))\n",
    "    try: \n",
    "        asig = pd.read_csv(path + \"Asignacion.csv\", index_col= 0)\n",
    "    except FileNotFoundError or FileExistsError:\n",
    "        mes = datetime.now().month\n",
    "        asig = extras = pd.read_excel(path + main + \"Román - M{} Seguimiento.xlsx\".format(mes-1), sheet_name = \"Asignación\")\n",
    "        clean_asig(asig).to_csv(path + 'Asignacion.csv')\n",
    "        print('Asignacion csv Created')\n",
    "        asig = pd.read_csv(path + \"Asignacion.csv\", index_col= 0)\n",
    "    if grupo:\n",
    "        asig = asig[asig['MATERIA'] == grupo]\n",
    "    asig_merged = pd.merge(asig, database[['MATRICULA', 'Teléfono', 'Teléfono2']], on = 'MATRICULA')\n",
    "    return asig_merged "
   ]
  },
  {
   "cell_type": "code",
   "execution_count": null,
   "metadata": {},
   "outputs": [],
   "source": [
    "def test():\n",
    "    path = 'Data/'\n",
    "    df = pd.read_csv(path + 'Test.csv')\n",
    "    df_merge = pd.merge(df, database[['MATRICULA', 'Teléfono', 'Teléfono2']], on = 'MATRICULA')\n",
    "    return df_merge"
   ]
  },
  {
   "cell_type": "markdown",
   "metadata": {},
   "source": [
    "Codigo"
   ]
  },
  {
   "cell_type": "code",
   "execution_count": null,
   "metadata": {},
   "outputs": [],
   "source": [
    "path = 'Data/'\n",
    "main = 'Main/'\n",
    "\n",
    "try:\n",
    "    database = pd.read_csv(path + \"BASE CNCI.csv\") \n",
    "except FileNotFoundError or FileExistsError: \n",
    "    %run DatabaseCNCI.ipynb\n",
    "    print('Database CNCI.csv Created')\n",
    "    database = pd.read_csv(path + \"BASE CNCI.csv\")"
   ]
  },
  {
   "cell_type": "code",
   "execution_count": null,
   "metadata": {},
   "outputs": [],
   "source": [
    "mencion_stat = ''\n",
    "link = ''\n",
    "path2 = 'infodata/'\n",
    "imagen = 'img/Cerro.jpeg'\n",
    "\n",
    "#Inicializar la infodata\n",
    "try:\n",
    "    matric_error = pd.read_csv(path2 + 'matriculas_error.csv')\n",
    "    matric_yacontactadas = pd.read_csv(path2+ 'matriculas_yacontactadas.csv') \n",
    "    \n",
    "    matric_error = matric_error.dropna().values.flatten().tolist()\n",
    "    matric_yacontactadas = matric_yacontactadas.dropna().values.flatten().tolist() \n",
    "except FileNotFoundError:\n",
    "    matric_error = pd.DataFrame()\n",
    "    matric_yacontactadas = pd.DataFrame()"
   ]
  },
  {
   "cell_type": "markdown",
   "metadata": {},
   "source": [
    "Opciones"
   ]
  },
  {
   "cell_type": "code",
   "execution_count": null,
   "metadata": {},
   "outputs": [],
   "source": [
    "option = 0\n",
    "while option not in (1, 2, 3):\n",
    "    option = int(input('1.- Colab \\n2.- Test Aprendizaje \\n3.- No inicios'))\n",
    "    if option == 1:\n",
    "        link = str(input('Link? '))\n",
    "        df = colab()\n",
    "    elif option == 2:\n",
    "        link = 'https://forms.office.com/r/xjAa2rPUhf'\n",
    "        df = test()\n",
    "    elif option == 3:\n",
    "        print('')"
   ]
  },
  {
   "cell_type": "markdown",
   "metadata": {},
   "source": [
    "Ciclo de mensajes"
   ]
  },
  {
   "cell_type": "code",
   "execution_count": null,
   "metadata": {},
   "outputs": [],
   "source": [
    "for index, row in df.iterrows():\n",
    "    alumno = row['NOMBRE']\n",
    "    matricula = row['MATRICULA']\n",
    "    telefono = row['Teléfono']\n",
    "    \n",
    "    if option == 1:\n",
    "        materia = row['MATERIA']\n",
    "        mensaje = 'Hola, que tal ' + alumno + ' ' + matricula + ', soy _Román Rodríguez_ tu Tutor Presencial del CNCI, me comunico contigo para invitarte al grupo colaborativo de la materia: *'+ materia + '* con la finalidad de que podamos entablar conversación por ahí sobre los temas relacionados y además tener apoyo entre los compañeros. \\n\\nSi gustas a continuación te dejo el enlace: ' + link\n",
    "    elif option == 2:\n",
    "        mensaje = 'Hola, que tal ' + alumno + ' ' + matricula + ', soy _Román Rodríguez_ tu Tutor Presencial del CNCI, me comunico contigo para invitarte a contestar el Test de Aprendizaje que tienes pendiente'\n",
    "    \n",
    "    if not pd.isna(telefono):\n",
    "        telefono = '+52 ' + str(telefono)\n",
    "    if matricula in matric_error:\n",
    "        if not pd.isna(row['Teléfono2']):\n",
    "            telefono2 = '+52 ' + str(row['Teléfono2'])\n",
    "            telefono = telefono2\n",
    "            print('Matricula con error: {}, Alumno: {}'.format(matricula, alumno))       \n",
    "    \n",
    "\n",
    "    if matricula in matric_yacontactadas:\n",
    "        print('Matricula antes contactada: {}, Alumno: {} '.format(matricula, alumno))    \n",
    "    else:\n",
    "        print('Enviado a: {} {}'.format(matricula, alumno))\n",
    "        #wpp.sendwhats_image(telefono, imagen, mensaje, 25, True)\n",
    "        #print(telefono, matricula, alumno)"
   ]
  }
 ],
 "metadata": {
  "kernelspec": {
   "display_name": "Python 3",
   "language": "python",
   "name": "python3"
  },
  "language_info": {
   "codemirror_mode": {
    "name": "ipython",
    "version": 3
   },
   "file_extension": ".py",
   "mimetype": "text/x-python",
   "name": "python",
   "nbconvert_exporter": "python",
   "pygments_lexer": "ipython3",
   "version": "3.12.3"
  }
 },
 "nbformat": 4,
 "nbformat_minor": 2
}
