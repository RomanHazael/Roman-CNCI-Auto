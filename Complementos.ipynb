{
 "cells": [
  {
   "cell_type": "code",
   "execution_count": null,
   "metadata": {},
   "outputs": [],
   "source": [
    "import pandas as pd\n",
    "from datetime import datetime\n",
    "import pywhatkit as wpp\n",
    "import dataframe_image as dfi\n",
    "import pyautogui"
   ]
  },
  {
   "cell_type": "markdown",
   "metadata": {},
   "source": [
    "Funciones"
   ]
  },
  {
   "cell_type": "code",
   "execution_count": null,
   "metadata": {},
   "outputs": [],
   "source": [
    "def dias():\n",
    "    reference_day = datetime(2024, 1, 8)\n",
    "    today = datetime.now()\n",
    "    deltaday = (today - reference_day).days\n",
    "\n",
    "    sem = int(deltaday // 7 % 4)\n",
    "    mes = today.month - reference_day.month +1\n",
    "    year = 2024\n",
    "    return sem, mes, year"
   ]
  },
  {
   "cell_type": "code",
   "execution_count": null,
   "metadata": {},
   "outputs": [],
   "source": [
    "def clean_asig(df):\n",
    "    # Solo Colunnas necesarias. Filtro solo Cadereyta\n",
    "    df = df.rename(columns={'MATERIA':'GRUPO','MATERIA.1':'MATERIA'})\n",
    "    df = df[['MATRICULA','NOMBRE', 'CE', 'MATERIA']]\n",
    "    \n",
    "    # Matriculas en MAYUS\n",
    "    df['MATRICULA'] = df['MATRICULA'].str.upper()\n",
    "    \n",
    "    cade = ('CADEREYTA', 'CE CADEREYTA', 'CC CADEREYTA')\n",
    "    df = df[df['CE'].str.contains('|'.join(cade), case = False, na = False)]\n",
    "    return df"
   ]
  },
  {
   "cell_type": "code",
   "execution_count": null,
   "metadata": {},
   "outputs": [],
   "source": [
    "def colab():\n",
    "    print('Grupos Colaborativos')\n",
    "    \n",
    "    gcol = pd.read_csv('Infodata/LinksGColab.csv', index_col=0)\n",
    "    \n",
    "    display(gcol.iloc[:,[0,1]])\n",
    "    \n",
    "    grupo = str(input('Grupo ?'))\n",
    "    link = gcol[gcol.iloc[:,0] == grupo].iloc[:,2].values[0]\n",
    "    grupo = gcol[gcol.iloc[:,0] == grupo].iloc[:,1].values[0]\n",
    "    try: \n",
    "        asig = pd.read_csv('Data/' + \"Asignacion.csv\", index_col= 0)\n",
    "    except FileNotFoundError or FileExistsError:\n",
    "        mes = datetime.now().month\n",
    "        asig = pd.read_excel('Data/Main/' + \"Román - M{} Seguimiento.xlsx\".format(mes), sheet_name = \"Asignación\")\n",
    "        clean_asig(asig).to_csv('Data/' + 'Asignacion.csv')\n",
    "        print('Asignacion csv Created')\n",
    "        asig = pd.read_csv('Data/' + \"Asignacion.csv\", index_col= 0)\n",
    "    if grupo:\n",
    "        asig = asig[asig['MATERIA'] == grupo]\n",
    "    asig_merged = pd.merge(asig, database[['MATRICULA', 'Teléfono', 'Teléfono2']], on = 'MATRICULA')\n",
    "    return asig_merged, link"
   ]
  },
  {
   "cell_type": "code",
   "execution_count": null,
   "metadata": {},
   "outputs": [],
   "source": [
    "def test():\n",
    "    print('Enviar Test de Aprendizaje')\n",
    "    path = 'Data/'\n",
    "    df = pd.read_csv(path + 'PendientesTest.csv')\n",
    "    df_merge = pd.merge(df, database[['MATRICULA', 'Teléfono', 'Teléfono2']], on = 'MATRICULA')\n",
    "    return df_merge"
   ]
  },
  {
   "cell_type": "code",
   "execution_count": null,
   "metadata": {},
   "outputs": [],
   "source": [
    "def result_test():\n",
    "    print('Resultados Test de Aprendizaje')\n",
    "    path = 'Data/'\n",
    "    df = pd.read_csv(path + 'TestAprendizaje.csv')\n",
    "    df_merge = pd.merge(df, database[['MATRICULA', 'Teléfono', 'Teléfono2']], on = 'MATRICULA')\n",
    "    return df_merge"
   ]
  },
  {
   "cell_type": "code",
   "execution_count": null,
   "metadata": {},
   "outputs": [],
   "source": [
    "def noinicios():\n",
    "    print('No Inicios')\n",
    "    path = 'Data/'\n",
    "    main = 'Main/'\n",
    "    try:\n",
    "        df = pd.read_csv(path + 'NoInicios.csv')\n",
    "    except FileNotFoundError or FileExistsError:\n",
    "        sem , mes, year = dias()\n",
    "        df = pd.read_excel(path + main +\"BASE BLENDED NL S{:d}M{:02d} {}.xlsx\".format(sem, mes, year), sheet_name = 'NO INICIO')\n",
    "        df = df[['TIPO DE BAJA', 'NOMBRE EN LA BASE', 'MATRICULA EDCON','CE CANALIZADO','Fecha','SERVICIO','CARRERA','M1','Fecha de inicio','Correo','Teléfono','Teléfono 2','Asesor Financiero','Asesor Escolar',]]\n",
    "        df = df.rename(columns={'NOMBRE EN LA BASE':'NOMBRE','MATRICULA EDCON':'MATRICULA', 'Teléfono 2':'Teléfono2'})\n",
    "        df = df[df['CE CANALIZADO'].isin(['CADEREYTA', 'CE CADEREYTA', 'CC CADEREYTA'])]\n",
    "        df.to_csv(path + 'NoInicios.csv')\n",
    "    return df"
   ]
  },
  {
   "cell_type": "code",
   "execution_count": null,
   "metadata": {},
   "outputs": [],
   "source": [
    "def result_induccion():\n",
    "    df = pd.read_csv('infodata/' + 'Inducción_final.csv')\n",
    "    df = df[['NOMBRE', 'MATRICULA', 'CE CANALIZADO', 'Availability', 'Calificación Final','Proyecto Modular', 'Proyecto Integrador', 'MODELO EDUCATIVO']]\n",
    "    df = df[df['CE CANALIZADO'] == 'CE CADEREYTA']\n",
    "    df = pd.merge(df, database[['MATRICULA', 'CARRERA','Teléfono', 'Teléfono2']], on = 'MATRICULA')\n",
    "    return df "
   ]
  },
  {
   "cell_type": "code",
   "execution_count": null,
   "metadata": {},
   "outputs": [],
   "source": [
    "def save_infodata(df,long):\n",
    "    df2 = pd.DataFrame(df, columns=['Matricula']) \n",
    "    if df2.empty:    \n",
    "        df2.loc[-1] = datetime.now().strftime('%d/%m/%Y')\n",
    "        df2.index = df2.index+1\n",
    "        df2 = df2.sort_index()\n",
    "    else:\n",
    "        df2.loc[long] = datetime.now().strftime('%d/%m/%Y')\n",
    "        df2.iloc[long+1:] = df2.iloc[long:-1].values\n",
    "\n",
    "    df2.to_csv('Infodata/' + 'complementos_contactados.csv', index=False)"
   ]
  },
  {
   "cell_type": "code",
   "execution_count": null,
   "metadata": {},
   "outputs": [],
   "source": [
    "from PIL import Image\n",
    "import matplotlib.pyplot as plt\n",
    "def print_image(imagen):\n",
    "    # Lee la imagen\n",
    "    figure = Image.open(imagen)\n",
    "    # Muestra la imagen\n",
    "    plt.figure(figsize=(2,2))\n",
    "    plt.imshow(figure)\n",
    "    plt.axis('off')  # Desactiva los ejes\n",
    "    plt.show()"
   ]
  },
  {
   "cell_type": "code",
   "execution_count": null,
   "metadata": {},
   "outputs": [],
   "source": [
    "def promos(df):\n",
    "    hoy = pd.to_datetime(datetime.now())\n",
    "    df['Fecha de inicio'] = pd.to_datetime(df['Fecha de inicio'])\n",
    "    def calcular_meses(fecha):\n",
    "        delta = hoy - fecha\n",
    "        return delta.days // 30  # Aproximar a meses\n",
    "\n",
    "    df['MesesPasados'] = df['Fecha de inicio'].apply(calcular_meses)\n",
    "    return df"
   ]
  },
  {
   "cell_type": "markdown",
   "metadata": {},
   "source": [
    "Codigo"
   ]
  },
  {
   "cell_type": "code",
   "execution_count": null,
   "metadata": {},
   "outputs": [],
   "source": [
    "path = 'Data/'\n",
    "main = 'Main/'\n",
    "\n",
    "try:\n",
    "    database = pd.read_csv(path + \"BASE CNCI.csv\") \n",
    "except FileNotFoundError or FileExistsError: \n",
    "    %run DatabaseCNCI.ipynb\n",
    "    print('Database CNCI.csv Created')\n",
    "    database = pd.read_csv(path + \"BASE CNCI.csv\")"
   ]
  },
  {
   "cell_type": "code",
   "execution_count": null,
   "metadata": {},
   "outputs": [],
   "source": [
    "path2 = 'Infodata/'\n",
    "# imagen = 'img/Cerro.jpeg'\n",
    "\n",
    "#Inicializar la infodata\n",
    "matric_error = pd.read_csv('Infodata/matriculas_error.csv')\n",
    "matric_error = matric_error.dropna().values.flatten().tolist()\n",
    "try:    \n",
    "    matric_yacontactadas = pd.read_csv('Infodata/matriculas_yacontactadas.csv') \n",
    "    matric_yacontactadas = matric_yacontactadas.dropna().values.flatten().tolist()\n",
    "except FileNotFoundError:\n",
    "    matric_yacontactadas = list()\n",
    "long = len(matric_yacontactadas) "
   ]
  },
  {
   "cell_type": "markdown",
   "metadata": {},
   "source": [
    "Opciones"
   ]
  },
  {
   "cell_type": "code",
   "execution_count": null,
   "metadata": {},
   "outputs": [],
   "source": [
    "option = 0\n",
    "while option not in (1, 2, 3, 4):\n",
    "    option = int(input('1.- Colab \\n2.- Test Aprendizaje \\n3.- No inicios  \\n4.- Resultados Induccion'))\n",
    "    if option == 1: \n",
    "        df, link = colab()\n",
    "    elif option == 2:\n",
    "        option2 = int(input('1.- Envio \\n2.- Resultados '))\n",
    "        if option2 == 1:\n",
    "            link = 'https://forms.office.com/r/xjAa2rPUhf'\n",
    "            df = test()\n",
    "        elif option2 == 2:\n",
    "            df = result_test()\n",
    "    elif option == 3:\n",
    "        df = noinicios()\n",
    "        df = promos(df)\n",
    "    elif option == 4:\n",
    "        df = result_induccion()\n",
    "        imagendf = input('Imprimir imagenes: 1')"
   ]
  },
  {
   "cell_type": "markdown",
   "metadata": {},
   "source": [
    "Ciclo de mensajes"
   ]
  },
  {
   "cell_type": "code",
   "execution_count": null,
   "metadata": {},
   "outputs": [],
   "source": [
    "for index, row in df.iterrows():\n",
    "    alumno = row['NOMBRE']\n",
    "    matricula = row['MATRICULA']\n",
    "    telefono = row['Teléfono']\n",
    "    \n",
    "    mensaje = 'Hola, que tal {} {}, soy _Román Rodríguez_ tu Tutor Presencial del CNCI'.format(alumno, matricula)\n",
    "    if option == 1:\n",
    "        materia = row['MATERIA']\n",
    "        mensaje = '{}, me comunico contigo para invitarte al grupo colaborativo de la materia: *{}* con la finalidad de que podamos entablar conversación por ahí sobre los Temas Relacionados al Curso y además tener apoyo entre los compañeros. \\n\\nSi gustas a continuación te dejo el enlace: {}'.format(mensaje, materia, link)\n",
    "    elif option == 2:\n",
    "        if option2 == 1:\n",
    "            mensaje = '{}, me comunico contigo para invitarte a contestar el *Test de Aprendizaje*, el cual nos ayuda a saber cuál es la mejor manera en la que cada uno se le facilita aprender.\\n Una vez contestado te agradecería que me mandes captura de que ya lo contestaste. \\n\\n Te dejo el enlace: {}'.format(mensaje, link)\n",
    "        elif option2 == 2:\n",
    "            resultado = row['Estilo de Aprendizaje'].title() + ' ' + row['Resultado'].title()\n",
    "            mensaje = '{} te saludo de vuelta _Román Rodríguez_ Tutor Presencial del CNCI, me comunico contigo para enviarte los resultados del _Test de Aprendizaje_ que contestaste, con el cual obtuvimos el *mejor método de aprendizaje* para tí. Tu _Estilo de Aprendizaje_ es el siguiente: *{}*'.format(mensaje, resultado)\n",
    "            imagen = 'img/ResultadosTestAprendizaje/'+ resultado+'.png'\n",
    "    elif option == 3:\n",
    "        fechaIn = row['Fecha de inicio'].strftime('%d/%m/%Y')\n",
    "        mesesIn = row['MesesPasados']\n",
    "        imagen = 'Img/Promo12menos.jpeg' if mesesIn < 12 else 'Img/Promo12mas.jpeg'\n",
    "        mensaje = '*REMOTA TU CURSO DE INDUCCIÓN CON ESTA SÚPER PROMO* \\nBuen día, {}. Me presento soy _Román Rodríguez_ Tutor Presencial del CNCI, me comunico contigo para invitarte a _RETOMAR_ tu curso de *Inducción*, así dar un nuevo inicio a _Tu Carrera Profesional_!!! Tu primer intento fue el día {}, dandonos un total de {} meses hasta la fecha de hoy, aún es buen momento para retomar. Mencioname si estas interesad@ y con gusto te contacto, ten un buen día! \\n Próximo Inicio: *Lunes 10 de Junio*!!!'.format(alumno, fechaIn, mesesIn)\n",
    "    elif option == 4:\n",
    "        status = row['Availability']\n",
    "        carrera = row['CARRERA']\n",
    "        imagen = 'img/Induccion/Induccion_'+matricula+'.png'\n",
    "        if  imagendf == 1:\n",
    "            calif = df[df['MATRICULA'] == matricula][['NOMBRE', 'MATRICULA','Proyecto Modular', 'Proyecto Integrador', 'Calificación Final']]\n",
    "            dfi.export(calif, imagen)\n",
    "        if status == 'Acreditado':\n",
    "            mensaje = '*Felicidades!!!!* {} {}. \\nTe mando este mensaje para hacerte saber que _Acreditaste_ tu curso de *INDUCCIÓN*, por lo que el siguiente mes iniciaras tu carga de materias de {}. \\nTe adjunto las calificaciones de este curso: \\n\\nPS: Calificación Final es en base a 10.'.format(alumno, matricula,carrera)\n",
    "        else:\n",
    "            mensaje = 'Hola, que tal {} {}, te hablo para notificarte sobre tu calificaciones del curso de *Inducción*, al parecer NO fuiste Acreditado, por lo que no podrás acceder a tu carga de materias. \\nSin embargo puedes reprogramar tu Inducción, el costo lo verificamos con tu *AF*, si estás interesado, hazmelo saber para comunicarme con él. \\nAdemás el costo de tu primer colegiatura se respetará hasta que acredites la Inducción. Por lo que no lo perderás. \\nTe adjunto las calificaciones de este curso: \\n\\nPS: Calificación Final es en base a 10.'.format(alumno, matricula)\n",
    "\n",
    "    if not pd.isna(telefono):\n",
    "        telefono = '+52 ' + str(telefono)\n",
    "    if matricula in matric_error:\n",
    "        if not pd.isna(row['Teléfono2']):\n",
    "            telefono2 = '+52 ' + str(int(row['Teléfono2']))\n",
    "            telefono = telefono2\n",
    "            print('Matricula con error: {}, Alumno: {}'.format(matricula, alumno))\n",
    "    if matricula in matric_yacontactadas:\n",
    "        print('Matricula antes contactada: {}, Alumno: {} '.format(matricula, alumno))    \n",
    "    else:\n",
    "        print('Enviado a: {} {} '.format(matricula, alumno))\n",
    "        # print_image(imagen)\n",
    "        print('--------------------')\n",
    "        matric_yacontactadas.append(matricula)\n",
    "        wpp.sendwhats_image(telefono, imagen, mensaje, 15, True)\n",
    "        \n",
    "save_infodata(matric_yacontactadas, long)"
   ]
  }
 ],
 "metadata": {
  "kernelspec": {
   "display_name": "Python 3",
   "language": "python",
   "name": "python3"
  },
  "language_info": {
   "codemirror_mode": {
    "name": "ipython",
    "version": 3
   },
   "file_extension": ".py",
   "mimetype": "text/x-python",
   "name": "python",
   "nbconvert_exporter": "python",
   "pygments_lexer": "ipython3",
   "version": "3.12.3"
  }
 },
 "nbformat": 4,
 "nbformat_minor": 2
}
