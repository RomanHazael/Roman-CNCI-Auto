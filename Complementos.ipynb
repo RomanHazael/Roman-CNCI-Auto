{
 "cells": [
  {
   "cell_type": "code",
   "execution_count": null,
   "metadata": {},
   "outputs": [],
   "source": [
    "import pandas as pd\n",
    "from datetime import datetime\n",
    "import pywhatkit as wpp"
   ]
  },
  {
   "cell_type": "markdown",
   "metadata": {},
   "source": [
    "Funciones"
   ]
  },
  {
   "cell_type": "code",
   "execution_count": null,
   "metadata": {},
   "outputs": [],
   "source": [
    "def dias():\n",
    "    reference_day = datetime(2024, 1, 8)\n",
    "    today = datetime.now()\n",
    "    deltaday = (today - reference_day).days\n",
    "\n",
    "    sem = int(deltaday // 7 % 4)\n",
    "    mes = today.month - reference_day.month +1\n",
    "    year = 2024\n",
    "    return sem, mes, year"
   ]
  },
  {
   "cell_type": "code",
   "execution_count": null,
   "metadata": {},
   "outputs": [],
   "source": [
    "def clean_asig(df):\n",
    "    # Solo Colunnas necesarias. Filtro solo Cadereyta\n",
    "    \n",
    "    df = df[['MATRICULA','NOMBRE', 'CE', 'MATERIA']]\n",
    "    \n",
    "    # Matriculas en MAYUS\n",
    "    df['MATRICULA'] = df['MATRICULA'].str.upper()\n",
    "    \n",
    "    cade = ('CADEREYTA', 'CE CADEREYTA', 'CC CADEREYTA')\n",
    "    df = df[df['CE'].str.contains('|'.join(cade), case = False, na = False)]\n",
    "    return df"
   ]
  },
  {
   "cell_type": "code",
   "execution_count": null,
   "metadata": {},
   "outputs": [],
   "source": [
    "def colab():\n",
    "    print('Grupos Colaborativos')\n",
    "    \n",
    "    materias_dict = {'cal dif':['Cálculo diferencial', 'https://chat.whatsapp.com/K2y5qOtGQeiAcNOSD77dWv'],'admin':['Administración I',], 'integral':['Cálculo integral',], 'fun mat':['Fundamentos de matemáticas', 'https://chat.whatsapp.com/Env3dGXvLIl7HYXWFUtICE'], 'conta':['Introducción a la contabilidad', ],'derecho':['Introducción al derecho', ]}\n",
    "    print(materias_dict.keys())\n",
    "    \n",
    "    grupo = str(input('Grupo ?'))\n",
    "    link = materias_dict[grupo][1]\n",
    "    grupo = materias_dict[grupo][0]\n",
    "    try: \n",
    "        asig = pd.read_csv(path + \"Asignacion.csv\", index_col= 0)\n",
    "    except FileNotFoundError or FileExistsError:\n",
    "        mes = datetime.now().month\n",
    "        asig = extras = pd.read_excel(path + main + \"Román - M{} Seguimiento.xlsx\".format(mes), sheet_name = \"Asignación\")\n",
    "        clean_asig(asig).to_csv(path + 'Asignacion.csv')\n",
    "        print('Asignacion csv Created')\n",
    "        asig = pd.read_csv(path + \"Asignacion.csv\", index_col= 0)\n",
    "    if grupo:\n",
    "        asig = asig[asig['MATERIA'] == grupo]\n",
    "    asig_merged = pd.merge(asig, database[['MATRICULA', 'Teléfono', 'Teléfono2']], on = 'MATRICULA')\n",
    "    return asig_merged, link"
   ]
  },
  {
   "cell_type": "code",
   "execution_count": null,
   "metadata": {},
   "outputs": [],
   "source": [
    "def test():\n",
    "    print('Enviar Test de Aprendizaje')\n",
    "    path = 'Data/'\n",
    "    df = pd.read_csv(path + 'PendientesTest.csv')\n",
    "    df_merge = pd.merge(df, database[['MATRICULA', 'Teléfono', 'Teléfono2']], on = 'MATRICULA')\n",
    "    return df_merge"
   ]
  },
  {
   "cell_type": "code",
   "execution_count": null,
   "metadata": {},
   "outputs": [],
   "source": [
    "def result_test():\n",
    "    print('Resultados Test de Aprendizaje')\n",
    "    path = 'Data/'\n",
    "    df = pd.read_csv(path + 'resultest.csv')\n",
    "    df_merge = pd.merge(df, database[['MATRICULA', 'Teléfono', 'Teléfono2']], on = 'MATRICULA')\n",
    "    return df_merge"
   ]
  },
  {
   "cell_type": "code",
   "execution_count": null,
   "metadata": {},
   "outputs": [],
   "source": [
    "def noinicios():\n",
    "    print('No Inicios')\n",
    "    path = 'Data/'\n",
    "    main = 'Main/'\n",
    "    try:\n",
    "        df = pd.read_csv('noinicios.csv')\n",
    "    except FileNotFoundError or FileExistsError:\n",
    "        sem , mes, year = dias()\n",
    "        df = pd.read_excel(path + main +\"BASE BLENDED NL S{:d}M{:02d} {}.xlsx\".format(sem, mes, year), sheet_name = 'NO INICIO')\n",
    "        matriculas = pd.read_csv('infodata/matriculas_noinicios.csv', header=None)\n",
    "        matriculas = matriculas.iloc[0].tolist()\n",
    "        df = df[['TIPO DE BAJA', 'NOMBRE EN LA BASE', 'MATRICULA EDCON','CE CANALIZADO','Fecha','SERVICIO','CARRERA','M1','Fecha de inicio','Correo','Teléfono','Teléfono 2','Asesor Financiero','Asesor Escolar',]]\n",
    "        df = df.rename(columns={'NOMBRE EN LA BASE':'NOMBRE','MATRICULA EDCON':'MATRICULA', 'Teléfono 2':'Teléfono2'})\n",
    "        df = df[df['MATRICULA'].isin(matriculas)]\n",
    "    return df"
   ]
  },
  {
   "cell_type": "markdown",
   "metadata": {},
   "source": [
    "Codigo"
   ]
  },
  {
   "cell_type": "code",
   "execution_count": null,
   "metadata": {},
   "outputs": [],
   "source": [
    "path = 'Data/'\n",
    "main = 'Main/'\n",
    "\n",
    "try:\n",
    "    database = pd.read_csv(path + \"BASE CNCI.csv\") \n",
    "except FileNotFoundError or FileExistsError: \n",
    "    %run DatabaseCNCI.ipynb\n",
    "    print('Database CNCI.csv Created')\n",
    "    database = pd.read_csv(path + \"BASE CNCI.csv\")"
   ]
  },
  {
   "cell_type": "code",
   "execution_count": null,
   "metadata": {},
   "outputs": [],
   "source": [
    "path2 = 'infodata/'\n",
    "imagen = 'img/Cerro.jpeg'\n",
    "\n",
    "#Inicializar la infodata\n",
    "matric_error = pd.read_csv('infodata/matriculas_error.csv')\n",
    "matric_error = matric_error.dropna().values.flatten().tolist()\n",
    "    \n",
    "try:    \n",
    "    matric_yacontactadas = pd.read_csv(path2+ 'matriculas_yacontactadas.csv') \n",
    "    matric_yacontactadas = matric_yacontactadas.dropna().values.flatten().tolist() \n",
    "except FileNotFoundError:\n",
    "    matric_yacontactadas = pd.DataFrame()"
   ]
  },
  {
   "cell_type": "markdown",
   "metadata": {},
   "source": [
    "Opciones"
   ]
  },
  {
   "cell_type": "code",
   "execution_count": null,
   "metadata": {},
   "outputs": [],
   "source": [
    "option = 0\n",
    "while option not in (1, 2, 3):\n",
    "    option = int(input('1.- Colab \\n2.- Test Aprendizaje \\n3.- No inicios'))\n",
    "    if option == 1: \n",
    "        df, link = colab()\n",
    "    elif option == 2:\n",
    "        option2 = int(input('1.- Envio \\n2.- Resultados '))\n",
    "        if option2 == 1:\n",
    "            link = 'https://forms.office.com/r/xjAa2rPUhf'\n",
    "            df = test()\n",
    "        elif option2 == 2:\n",
    "            df = result_test()\n",
    "    elif option == 3:\n",
    "        df = noinicios()"
   ]
  },
  {
   "cell_type": "markdown",
   "metadata": {},
   "source": [
    "Ciclo de mensajes"
   ]
  },
  {
   "cell_type": "code",
   "execution_count": null,
   "metadata": {},
   "outputs": [],
   "source": [
    "for index, row in df.iterrows():\n",
    "    alumno = row['NOMBRE']\n",
    "    matricula = row['MATRICULA']\n",
    "    telefono = row['Teléfono']\n",
    "    \n",
    "    if option == 1:\n",
    "        materia = row['MATERIA']\n",
    "        mensaje = 'Hola, que tal ' + alumno + ' ' + matricula + ', soy _Román Rodríguez_ tu Tutor Presencial del CNCI, me comunico contigo para invitarte al grupo colaborativo de la materia: *'+ materia + '* con la finalidad de que podamos entablar conversación por ahí sobre los temas relacionados y además tener apoyo entre los compañeros. \\n\\nSi gustas a continuación te dejo el enlace: ' + link\n",
    "    elif option == 2:\n",
    "        if option2 == 1:\n",
    "            mensaje = 'Hola, que tal ' + alumno + ' ' + matricula + ', soy _Román Rodríguez_ tu Tutor Presencial del CNCI, me comunico contigo para invitarte a contestar el *Test de Aprendizaje*, el cual nos ayuda a saber cuál es la mejor manera en la que cada uno se le facilita aprender.\\n Una vez contestado te agradecería que me mandes captura de que ya lo contestaste. \\n\\n Te dejo el enlace: '+link\n",
    "        elif option2 == 2:\n",
    "            resultado = row['ESTILO'].title() + ' ' + row['Resultado'].title()\n",
    "            mensaje = 'Hola, que tal ' + alumno + ' ' + matricula + ', te saludo de vuelta _Román Rodríguez_ Tutor Presencial del CNCI, me comunico contigo para enviarte los resultados del _Test de Aprendizaje_ que contestaste, con el cual obtuvimos el *mejor método de aprendizaje* para tí. Tu _Estilo de Aprendizaje_ es el siguiente: *'+ resultado +'*'\n",
    "            imagen = 'img/ResultadosTestAprendizaje/'+ resultado+'.png'\n",
    "    elif option == 3:\n",
    "        mensaje = 'Hola, que tal ' + alumno + '. Me presento soy _Román Rodríguez_ Tutor Presencial del CNCI, me comunico contigo para invitarte a *RETOMAR* tu curso de *Inducción*, así dar un nuevo inicio a tu carrera, el próximo inicio es el 13 de mayo, mencioname si estas interesad@ y con gusto te contacto, ten un buen día!'\n",
    "\n",
    "    if not pd.isna(telefono):\n",
    "        telefono = '+52 ' + str(telefono)\n",
    "    if matricula in matric_error:\n",
    "        if not pd.isna(row['Teléfono2']):\n",
    "            telefono2 = '+52 ' + str(row['Teléfono2'])\n",
    "            telefono = telefono2\n",
    "            print('Matricula con error: {}, Alumno: {}'.format(matricula, alumno))\n",
    "                 \n",
    "    if matricula in matric_yacontactadas:\n",
    "        print('Matricula antes contactada: {}, Alumno: {} '.format(matricula, alumno))    \n",
    "    else:\n",
    "        print('Enviado a: {} {}'.format(matricula, alumno), telefono)\n",
    "        print('--------------------')\n",
    "        # wpp.sendwhats_image(telefono, imagen, mensaje, 25, True)"
   ]
  },
  {
   "cell_type": "markdown",
   "metadata": {},
   "source": [
    "Prototipo de chequeo de imagenes"
   ]
  },
  {
   "cell_type": "code",
   "execution_count": null,
   "metadata": {},
   "outputs": [],
   "source": [
    "from PIL import Image\n",
    "import matplotlib.pyplot as plt\n",
    "\n",
    "# Lee la imagen\n",
    "# print(alumno, resultado)\n",
    "figure = Image.open(imagen)\n",
    "# Muestra la imagen\n",
    "plt.imshow(figure)\n",
    "plt.axis('off')  # Desactiva los ejes\n",
    "plt.show()"
   ]
  }
 ],
 "metadata": {
  "kernelspec": {
   "display_name": "Python 3",
   "language": "python",
   "name": "python3"
  },
  "language_info": {
   "codemirror_mode": {
    "name": "ipython",
    "version": 3
   },
   "file_extension": ".py",
   "mimetype": "text/x-python",
   "name": "python",
   "nbconvert_exporter": "python",
   "pygments_lexer": "ipython3",
   "version": "3.12.3"
  }
 },
 "nbformat": 4,
 "nbformat_minor": 2
}
